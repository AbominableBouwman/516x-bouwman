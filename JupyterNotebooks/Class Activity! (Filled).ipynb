{
 "cells": [
  {
   "cell_type": "markdown",
   "metadata": {},
   "source": [
    "# Class Activity \n",
    "The goal of this activity is the practive implementing SVM and testing the preditions of Ordiary Least Squares and SVM. \n",
    "\n",
    "To complete this activity you will need to access the The module publically available at [https://scratch.mit.edu/projects/603093411/](https://scratch.mit.edu/projects/603093411/)\n",
    "\n",
    "Normally participants are then asked to provide the participant ID given to them in a google forum to collect summary data points such as ethnicity, sex, age, and familiarity with technology. The responses for this form can be found at [Drive Link](https://docs.google.com/spreadsheets/d/11fNLn7-7c9rlHEPKpTqid2YDDLQVBW_QTY4EYnlaYXQ/edit?usp=sharing) \n",
    "The Qestionaires are located at [Link](https://docs.google.com/forms/d/e/1FAIpQLSeYyGLxR2mH17MzsrR1sm4dumOfsZECpoG1EHJ0FHw2-jYiwA/viewform?usp=sf_link) and [Link](https://docs.google.com/forms/d/e/1FAIpQLScREfhTiPqMwQLZ-XsUYUHF3L7s-LemZivaJv6_3uhFI8_K6Q/viewform?usp=sf_link)\n",
    "\n",
    "You will need to load the 'reaction_time_cleaned.xlsx' and navigate to the second sheet. The information there can be updated to match one or more rounds of any of the testing methodologies. \n",
    "\n",
    "First, you will use a linearlization of the data to predict your reaction times based on the other fields. \n",
    "## Imports"
   ]
  },
  {
   "cell_type": "code",
   "execution_count": 1,
   "metadata": {},
   "outputs": [],
   "source": [
    "import pandas as pd\n",
    "import numpy as np"
   ]
  },
  {
   "cell_type": "code",
   "execution_count": 2,
   "metadata": {},
   "outputs": [
    {
     "data": {
      "text/plain": [
       "(299, 9)"
      ]
     },
     "execution_count": 2,
     "metadata": {},
     "output_type": "execute_result"
    }
   ],
   "source": [
    "#Load in the data\n",
    "df = pd.read_excel('reaction_time_cleaned.xlsx')\n",
    "test = pd.read_excel('reaction_time_cleaned.xlsx', sheet_name = 'Class Activity')\n",
    "#Correct for outliers\n",
    "df = df[np.abs(df.time - df.time.mean()) <= (3*df.time.std())]\n",
    "df.shape"
   ]
  },
  {
   "cell_type": "code",
   "execution_count": 3,
   "metadata": {},
   "outputs": [],
   "source": [
    "#Imports Stats packages\n",
    "import statsmodels.api as smf\n",
    "from statsmodels.formula.api import ols"
   ]
  },
  {
   "cell_type": "code",
   "execution_count": 4,
   "metadata": {},
   "outputs": [],
   "source": [
    "#OLS Model\n",
    "method = ols(formula='time ~ sex + ethnicity + age + method', data=df).fit()\n"
   ]
  },
  {
   "cell_type": "code",
   "execution_count": 5,
   "metadata": {},
   "outputs": [
    {
     "data": {
      "text/plain": [
       "0    0.296813\n",
       "dtype: float64"
      ]
     },
     "execution_count": 5,
     "metadata": {},
     "output_type": "execute_result"
    }
   ],
   "source": [
    "#Predict the reaction time based on the model\n",
    "method.predict(test)"
   ]
  },
  {
   "cell_type": "code",
   "execution_count": 6,
   "metadata": {},
   "outputs": [
    {
     "data": {
      "text/plain": [
       "0    0.298999\n",
       "Name: time, dtype: float64"
      ]
     },
     "execution_count": 6,
     "metadata": {},
     "output_type": "execute_result"
    }
   ],
   "source": [
    "#Real times\n",
    "test['time']"
   ]
  },
  {
   "cell_type": "code",
   "execution_count": 7,
   "metadata": {},
   "outputs": [
    {
     "name": "stdout",
     "output_type": "stream",
     "text": [
      "0.74 % Error\n"
     ]
    }
   ],
   "source": [
    "#Mean of the difference as a percent error\n",
    "n = abs((method.predict(test) - test['time'])/method.predict(test)) * 100\n",
    "print( round(n.mean(),2), '% Error')"
   ]
  },
  {
   "cell_type": "markdown",
   "metadata": {},
   "source": [
    "### How accurate was the model? \n",
    "\n",
    "### What information did you leave out of your model, if any? Why?\n",
    "\n",
    "\n",
    "# Second, Test the Classification\n",
    "Use the test data set to see if a SVM can determine the method of testing used for the sample.\n",
    "\n",
    "First, load the data and create the SVM model on the base data."
   ]
  },
  {
   "cell_type": "code",
   "execution_count": 8,
   "metadata": {},
   "outputs": [],
   "source": [
    "#Split the data into inputs and outputs\n",
    "x = df.drop(columns = ['method', 'user_id'])\n",
    "y = df['method']"
   ]
  },
  {
   "cell_type": "code",
   "execution_count": 9,
   "metadata": {},
   "outputs": [],
   "source": [
    "#Generate a test and train set\n",
    "from sklearn.model_selection import train_test_split\n",
    "\n",
    "X_train, X_test, y_train, y_test = train_test_split(x, y, test_size = 0.3, random_state = 0)"
   ]
  },
  {
   "cell_type": "code",
   "execution_count": 10,
   "metadata": {},
   "outputs": [],
   "source": [
    "import category_encoders as ce\n",
    "# import category encoders "
   ]
  },
  {
   "cell_type": "code",
   "execution_count": 11,
   "metadata": {},
   "outputs": [
    {
     "name": "stderr",
     "output_type": "stream",
     "text": [
      "C:\\ProgramData\\Anaconda3\\lib\\site-packages\\category_encoders\\utils.py:21: FutureWarning: is_categorical is deprecated and will be removed in a future version.  Use is_categorical_dtype instead\n",
      "  elif pd.api.types.is_categorical(cols):\n"
     ]
    },
    {
     "data": {
      "text/plain": [
       "(209, 20)"
      ]
     },
     "execution_count": 11,
     "metadata": {},
     "output_type": "execute_result"
    }
   ],
   "source": [
    "# encode remaining variables with one-hot encoding \n",
    " \n",
    "encoder = ce.OneHotEncoder() \n",
    " \n",
    "X_train = encoder.fit_transform(X_train) \n",
    "X_test = encoder.transform(X_test) \n",
    "X_train.shape"
   ]
  },
  {
   "cell_type": "code",
   "execution_count": 12,
   "metadata": {},
   "outputs": [
    {
     "name": "stdout",
     "output_type": "stream",
     "text": [
      "Index(['sex_1', 'sex_2', 'gender_1', 'gender_2', 'ethnicity_1', 'ethnicity_2',\n",
      "       'ethnicity_3', 'ethnicity_4', 'age_1', 'age_2', 'age_3', 'age_4',\n",
      "       'age_5', 'tech_level', 'round_1', 'round_2', 'round_3', 'round_4',\n",
      "       'round_5', 'time'],\n",
      "      dtype='object')\n"
     ]
    }
   ],
   "source": [
    "cols = X_train.columns\n",
    "print(cols)"
   ]
  },
  {
   "cell_type": "code",
   "execution_count": 13,
   "metadata": {},
   "outputs": [],
   "source": [
    "#Scalar Transformation\n",
    "from sklearn.preprocessing import StandardScaler\n",
    "\n",
    "scaler = StandardScaler()\n",
    "\n",
    "X_train = scaler.fit_transform(X_train)\n",
    "\n",
    "X_test = scaler.transform(X_test)"
   ]
  },
  {
   "cell_type": "code",
   "execution_count": 14,
   "metadata": {},
   "outputs": [],
   "source": [
    "#Append the column names back to the transformed data\n",
    "X_train = pd.DataFrame(X_train, columns=[cols])\n",
    "X_test = pd.DataFrame(X_test, columns=[cols])"
   ]
  },
  {
   "cell_type": "code",
   "execution_count": 15,
   "metadata": {},
   "outputs": [
    {
     "data": {
      "text/plain": [
       "SVC(kernel='linear', random_state=0)"
      ]
     },
     "execution_count": 15,
     "metadata": {},
     "output_type": "execute_result"
    }
   ],
   "source": [
    "#Using SVC method of svm class to use Support Vector Machine Algorithm\n",
    "from sklearn.svm import SVC\n",
    "classifier = SVC(kernel = 'linear', random_state = 0)\n",
    "classifier.fit(X_train, y_train)"
   ]
  },
  {
   "cell_type": "markdown",
   "metadata": {},
   "source": [
    "Repeat the process of scaling and encoding with the test data. \n",
    "Step one is to add the test data to the larger dataset."
   ]
  },
  {
   "cell_type": "code",
   "execution_count": 16,
   "metadata": {},
   "outputs": [
    {
     "data": {
      "text/html": [
       "<div>\n",
       "<style scoped>\n",
       "    .dataframe tbody tr th:only-of-type {\n",
       "        vertical-align: middle;\n",
       "    }\n",
       "\n",
       "    .dataframe tbody tr th {\n",
       "        vertical-align: top;\n",
       "    }\n",
       "\n",
       "    .dataframe thead th {\n",
       "        text-align: right;\n",
       "    }\n",
       "</style>\n",
       "<table border=\"1\" class=\"dataframe\">\n",
       "  <thead>\n",
       "    <tr style=\"text-align: right;\">\n",
       "      <th></th>\n",
       "      <th>sex</th>\n",
       "      <th>gender</th>\n",
       "      <th>ethnicity</th>\n",
       "      <th>age</th>\n",
       "      <th>tech_level</th>\n",
       "      <th>user_id</th>\n",
       "      <th>method</th>\n",
       "      <th>round</th>\n",
       "      <th>time</th>\n",
       "    </tr>\n",
       "  </thead>\n",
       "  <tbody>\n",
       "    <tr>\n",
       "      <th>0</th>\n",
       "      <td>Male</td>\n",
       "      <td>Male</td>\n",
       "      <td>Black or African American</td>\n",
       "      <td>15-24</td>\n",
       "      <td>10</td>\n",
       "      <td>4973</td>\n",
       "      <td>Touchscreen</td>\n",
       "      <td>Round 1</td>\n",
       "      <td>0.298999</td>\n",
       "    </tr>\n",
       "  </tbody>\n",
       "</table>\n",
       "</div>"
      ],
      "text/plain": [
       "    sex gender                  ethnicity    age  tech_level  user_id  \\\n",
       "0  Male   Male  Black or African American  15-24          10     4973   \n",
       "\n",
       "        method    round      time  \n",
       "0  Touchscreen  Round 1  0.298999  "
      ]
     },
     "execution_count": 16,
     "metadata": {},
     "output_type": "execute_result"
    }
   ],
   "source": [
    "test"
   ]
  },
  {
   "cell_type": "code",
   "execution_count": 17,
   "metadata": {},
   "outputs": [
    {
     "data": {
      "text/html": [
       "<div>\n",
       "<style scoped>\n",
       "    .dataframe tbody tr th:only-of-type {\n",
       "        vertical-align: middle;\n",
       "    }\n",
       "\n",
       "    .dataframe tbody tr th {\n",
       "        vertical-align: top;\n",
       "    }\n",
       "\n",
       "    .dataframe thead th {\n",
       "        text-align: right;\n",
       "    }\n",
       "</style>\n",
       "<table border=\"1\" class=\"dataframe\">\n",
       "  <thead>\n",
       "    <tr style=\"text-align: right;\">\n",
       "      <th></th>\n",
       "      <th>sex</th>\n",
       "      <th>gender</th>\n",
       "      <th>ethnicity</th>\n",
       "      <th>age</th>\n",
       "      <th>tech_level</th>\n",
       "      <th>user_id</th>\n",
       "      <th>method</th>\n",
       "      <th>round</th>\n",
       "      <th>time</th>\n",
       "    </tr>\n",
       "  </thead>\n",
       "  <tbody>\n",
       "    <tr>\n",
       "      <th>0</th>\n",
       "      <td>Male</td>\n",
       "      <td>Male</td>\n",
       "      <td>Black or African American</td>\n",
       "      <td>15-24</td>\n",
       "      <td>10</td>\n",
       "      <td>4973</td>\n",
       "      <td>Touchscreen</td>\n",
       "      <td>Round 1</td>\n",
       "      <td>0.298999</td>\n",
       "    </tr>\n",
       "  </tbody>\n",
       "</table>\n",
       "</div>"
      ],
      "text/plain": [
       "    sex gender                  ethnicity    age  tech_level  user_id  \\\n",
       "0  Male   Male  Black or African American  15-24          10     4973   \n",
       "\n",
       "        method    round      time  \n",
       "0  Touchscreen  Round 1  0.298999  "
      ]
     },
     "execution_count": 17,
     "metadata": {},
     "output_type": "execute_result"
    }
   ],
   "source": [
    "df = df.append(test)\n",
    "df.iloc[-1:]"
   ]
  },
  {
   "cell_type": "code",
   "execution_count": 18,
   "metadata": {},
   "outputs": [],
   "source": [
    "#Split the data into inputs and outputs\n",
    "x = df.drop(columns = ['method', 'user_id'])\n",
    "y = df['method']"
   ]
  },
  {
   "cell_type": "code",
   "execution_count": 19,
   "metadata": {},
   "outputs": [
    {
     "name": "stderr",
     "output_type": "stream",
     "text": [
      "C:\\ProgramData\\Anaconda3\\lib\\site-packages\\category_encoders\\utils.py:21: FutureWarning: is_categorical is deprecated and will be removed in a future version.  Use is_categorical_dtype instead\n",
      "  elif pd.api.types.is_categorical(cols):\n"
     ]
    },
    {
     "data": {
      "text/plain": [
       "(300, 20)"
      ]
     },
     "execution_count": 19,
     "metadata": {},
     "output_type": "execute_result"
    }
   ],
   "source": [
    "# encode remaining variables with one-hot encoding \n",
    "encoder = ce.OneHotEncoder() \n",
    " \n",
    "x = encoder.fit_transform(x) \n",
    "x.shape"
   ]
  },
  {
   "cell_type": "code",
   "execution_count": 20,
   "metadata": {},
   "outputs": [
    {
     "name": "stdout",
     "output_type": "stream",
     "text": [
      "Index(['sex_1', 'sex_2', 'gender_1', 'gender_2', 'ethnicity_1', 'ethnicity_2',\n",
      "       'ethnicity_3', 'ethnicity_4', 'age_1', 'age_2', 'age_3', 'age_4',\n",
      "       'age_5', 'tech_level', 'round_1', 'round_2', 'round_3', 'round_4',\n",
      "       'round_5', 'time'],\n",
      "      dtype='object')\n"
     ]
    }
   ],
   "source": [
    "x_cols = x.columns\n",
    "print(x_cols)"
   ]
  },
  {
   "cell_type": "code",
   "execution_count": 21,
   "metadata": {},
   "outputs": [],
   "source": [
    "x = scaler.fit_transform(x)\n",
    "x = pd.DataFrame(x, columns=[x_cols])"
   ]
  },
  {
   "cell_type": "code",
   "execution_count": 22,
   "metadata": {},
   "outputs": [
    {
     "data": {
      "text/html": [
       "<div>\n",
       "<style scoped>\n",
       "    .dataframe tbody tr th:only-of-type {\n",
       "        vertical-align: middle;\n",
       "    }\n",
       "\n",
       "    .dataframe tbody tr th {\n",
       "        vertical-align: top;\n",
       "    }\n",
       "\n",
       "    .dataframe thead th {\n",
       "        text-align: right;\n",
       "    }\n",
       "</style>\n",
       "<table border=\"1\" class=\"dataframe\">\n",
       "  <thead>\n",
       "    <tr style=\"text-align: right;\">\n",
       "      <th></th>\n",
       "      <th>sex</th>\n",
       "      <th>gender</th>\n",
       "      <th>ethnicity</th>\n",
       "      <th>age</th>\n",
       "      <th>tech_level</th>\n",
       "      <th>user_id</th>\n",
       "      <th>method</th>\n",
       "      <th>round</th>\n",
       "      <th>time</th>\n",
       "    </tr>\n",
       "  </thead>\n",
       "  <tbody>\n",
       "    <tr>\n",
       "      <th>0</th>\n",
       "      <td>Male</td>\n",
       "      <td>Male</td>\n",
       "      <td>Black or African American</td>\n",
       "      <td>15-24</td>\n",
       "      <td>10</td>\n",
       "      <td>4973</td>\n",
       "      <td>Touchscreen</td>\n",
       "      <td>Round 1</td>\n",
       "      <td>0.298999</td>\n",
       "    </tr>\n",
       "  </tbody>\n",
       "</table>\n",
       "</div>"
      ],
      "text/plain": [
       "    sex gender                  ethnicity    age  tech_level  user_id  \\\n",
       "0  Male   Male  Black or African American  15-24          10     4973   \n",
       "\n",
       "        method    round      time  \n",
       "0  Touchscreen  Round 1  0.298999  "
      ]
     },
     "execution_count": 22,
     "metadata": {},
     "output_type": "execute_result"
    }
   ],
   "source": [
    "test"
   ]
  },
  {
   "cell_type": "code",
   "execution_count": 23,
   "metadata": {},
   "outputs": [
    {
     "data": {
      "text/html": [
       "<div>\n",
       "<style scoped>\n",
       "    .dataframe tbody tr th:only-of-type {\n",
       "        vertical-align: middle;\n",
       "    }\n",
       "\n",
       "    .dataframe tbody tr th {\n",
       "        vertical-align: top;\n",
       "    }\n",
       "\n",
       "    .dataframe thead tr th {\n",
       "        text-align: left;\n",
       "    }\n",
       "</style>\n",
       "<table border=\"1\" class=\"dataframe\">\n",
       "  <thead>\n",
       "    <tr>\n",
       "      <th></th>\n",
       "      <th>sex_1</th>\n",
       "      <th>sex_2</th>\n",
       "      <th>gender_1</th>\n",
       "      <th>gender_2</th>\n",
       "      <th>ethnicity_1</th>\n",
       "      <th>ethnicity_2</th>\n",
       "      <th>ethnicity_3</th>\n",
       "      <th>ethnicity_4</th>\n",
       "      <th>age_1</th>\n",
       "      <th>age_2</th>\n",
       "      <th>age_3</th>\n",
       "      <th>age_4</th>\n",
       "      <th>age_5</th>\n",
       "      <th>tech_level</th>\n",
       "      <th>round_1</th>\n",
       "      <th>round_2</th>\n",
       "      <th>round_3</th>\n",
       "      <th>round_4</th>\n",
       "      <th>round_5</th>\n",
       "      <th>time</th>\n",
       "    </tr>\n",
       "  </thead>\n",
       "  <tbody>\n",
       "    <tr>\n",
       "      <th>299</th>\n",
       "      <td>1.013423</td>\n",
       "      <td>-1.013423</td>\n",
       "      <td>1.013423</td>\n",
       "      <td>-1.013423</td>\n",
       "      <td>4.213075</td>\n",
       "      <td>-0.572218</td>\n",
       "      <td>-0.733799</td>\n",
       "      <td>-0.733799</td>\n",
       "      <td>1.372813</td>\n",
       "      <td>-0.494786</td>\n",
       "      <td>-0.221249</td>\n",
       "      <td>-0.592749</td>\n",
       "      <td>-0.420084</td>\n",
       "      <td>0.737926</td>\n",
       "      <td>2.021075</td>\n",
       "      <td>-0.505203</td>\n",
       "      <td>-0.494786</td>\n",
       "      <td>-0.505203</td>\n",
       "      <td>-0.5</td>\n",
       "      <td>-0.625447</td>\n",
       "    </tr>\n",
       "  </tbody>\n",
       "</table>\n",
       "</div>"
      ],
      "text/plain": [
       "        sex_1     sex_2  gender_1  gender_2 ethnicity_1 ethnicity_2  \\\n",
       "299  1.013423 -1.013423  1.013423 -1.013423    4.213075   -0.572218   \n",
       "\n",
       "    ethnicity_3 ethnicity_4     age_1     age_2     age_3     age_4     age_5  \\\n",
       "299   -0.733799   -0.733799  1.372813 -0.494786 -0.221249 -0.592749 -0.420084   \n",
       "\n",
       "    tech_level   round_1   round_2   round_3   round_4 round_5      time  \n",
       "299   0.737926  2.021075 -0.505203 -0.494786 -0.505203    -0.5 -0.625447  "
      ]
     },
     "execution_count": 23,
     "metadata": {},
     "output_type": "execute_result"
    }
   ],
   "source": [
    "x.iloc[-1:]"
   ]
  },
  {
   "cell_type": "markdown",
   "metadata": {},
   "source": [
    "use the Test set on the fitted SVM"
   ]
  },
  {
   "cell_type": "code",
   "execution_count": 24,
   "metadata": {},
   "outputs": [
    {
     "data": {
      "text/plain": [
       "array(['Spacebar'], dtype=object)"
      ]
     },
     "execution_count": 24,
     "metadata": {},
     "output_type": "execute_result"
    }
   ],
   "source": [
    "classifier.predict(x.iloc[-1:])"
   ]
  },
  {
   "cell_type": "markdown",
   "metadata": {},
   "source": [
    "## Was the classifier correct? Why or Why not?\n",
    "What could have influenced the predictive capabilities of the SVM?\n",
    "\n",
    "Generate a confusion matric or classification report to support your answer."
   ]
  },
  {
   "cell_type": "code",
   "execution_count": null,
   "metadata": {},
   "outputs": [],
   "source": []
  }
 ],
 "metadata": {
  "kernelspec": {
   "display_name": "Python 3",
   "language": "python",
   "name": "python3"
  },
  "language_info": {
   "codemirror_mode": {
    "name": "ipython",
    "version": 3
   },
   "file_extension": ".py",
   "mimetype": "text/x-python",
   "name": "python",
   "nbconvert_exporter": "python",
   "pygments_lexer": "ipython3",
   "version": "3.8.5"
  }
 },
 "nbformat": 4,
 "nbformat_minor": 4
}
