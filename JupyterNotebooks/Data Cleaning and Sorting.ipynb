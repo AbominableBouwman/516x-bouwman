{
 "cells": [
  {
   "cell_type": "markdown",
   "metadata": {},
   "source": [
    "# Data Cleaning and Sorting\n",
    "The goal of this section is to import the raw data from the experiment, check it for errors, convert it to a more readable format and then export that data to a new file for later use and storage.  \n",
    "\n",
    "## Import the Data\n",
    "Data was collected via a survey in Google Forms ([link](https://docs.google.com/forms/d/e/1FAIpQLScREfhTiPqMwQLZ-XsUYUHF3L7s-LemZivaJv6_3uhFI8_K6Q/viewform?usp=sf_link)) and the data is stored in an open access Google Sheet. ([link](https://docs.google.com/spreadsheets/d/11fNLn7-7c9rlHEPKpTqid2YDDLQVBW_QTY4EYnlaYXQ/edit?usp=sharing)) This sheet is available for you to download and use for your own research. \n",
    "\n",
    "The first thing to do is import the data into a pandas dataframe."
   ]
  },
  {
   "cell_type": "code",
   "execution_count": 1,
   "metadata": {
    "scrolled": false
   },
   "outputs": [],
   "source": [
    "import pandas as pd\n",
    "response = pd.read_excel(\"Demographic Information.xlsx\", sheet_name=\"Form Responses 2\")\n",
    "demographic = pd.read_excel(\"Demographic Information.xlsx\", sheet_name=\"Form Responses 1\")"
   ]
  },
  {
   "cell_type": "markdown",
   "metadata": {},
   "source": [
    "### Initial check\n",
    "Does the data load into the dataframe?"
   ]
  },
  {
   "cell_type": "code",
   "execution_count": 2,
   "metadata": {},
   "outputs": [
    {
     "data": {
      "text/html": [
       "<div>\n",
       "<style scoped>\n",
       "    .dataframe tbody tr th:only-of-type {\n",
       "        vertical-align: middle;\n",
       "    }\n",
       "\n",
       "    .dataframe tbody tr th {\n",
       "        vertical-align: top;\n",
       "    }\n",
       "\n",
       "    .dataframe thead th {\n",
       "        text-align: right;\n",
       "    }\n",
       "</style>\n",
       "<table border=\"1\" class=\"dataframe\">\n",
       "  <thead>\n",
       "    <tr style=\"text-align: right;\">\n",
       "      <th></th>\n",
       "      <th>Timestamp</th>\n",
       "      <th>User ID#</th>\n",
       "      <th>Method used for Test</th>\n",
       "      <th>Round 1</th>\n",
       "      <th>Round 2</th>\n",
       "      <th>Round 3</th>\n",
       "      <th>Round 4</th>\n",
       "      <th>Round 5</th>\n",
       "    </tr>\n",
       "  </thead>\n",
       "  <tbody>\n",
       "    <tr>\n",
       "      <th>0</th>\n",
       "      <td>2021-11-18 16:28:13.837</td>\n",
       "      <td>4973</td>\n",
       "      <td>Mouse</td>\n",
       "      <td>0.325000</td>\n",
       "      <td>0.267000</td>\n",
       "      <td>0.301000</td>\n",
       "      <td>0.229</td>\n",
       "      <td>0.267000</td>\n",
       "    </tr>\n",
       "    <tr>\n",
       "      <th>1</th>\n",
       "      <td>2021-11-18 16:28:51.866</td>\n",
       "      <td>4973</td>\n",
       "      <td>Spacebar</td>\n",
       "      <td>0.331990</td>\n",
       "      <td>0.232999</td>\n",
       "      <td>0.267000</td>\n",
       "      <td>0.231</td>\n",
       "      <td>0.300000</td>\n",
       "    </tr>\n",
       "    <tr>\n",
       "      <th>2</th>\n",
       "      <td>2021-11-18 16:29:36.305</td>\n",
       "      <td>4973</td>\n",
       "      <td>Touchscreen</td>\n",
       "      <td>0.298999</td>\n",
       "      <td>0.265990</td>\n",
       "      <td>0.290000</td>\n",
       "      <td>0.266</td>\n",
       "      <td>0.298999</td>\n",
       "    </tr>\n",
       "    <tr>\n",
       "      <th>3</th>\n",
       "      <td>2021-11-19 00:04:49.433</td>\n",
       "      <td>3007</td>\n",
       "      <td>Mouse</td>\n",
       "      <td>0.362000</td>\n",
       "      <td>0.322000</td>\n",
       "      <td>0.362000</td>\n",
       "      <td>0.329</td>\n",
       "      <td>0.329000</td>\n",
       "    </tr>\n",
       "    <tr>\n",
       "      <th>4</th>\n",
       "      <td>2021-11-19 00:06:10.527</td>\n",
       "      <td>3007</td>\n",
       "      <td>Spacebar</td>\n",
       "      <td>0.328999</td>\n",
       "      <td>0.331000</td>\n",
       "      <td>0.296999</td>\n",
       "      <td>0.331</td>\n",
       "      <td>0.269990</td>\n",
       "    </tr>\n",
       "  </tbody>\n",
       "</table>\n",
       "</div>"
      ],
      "text/plain": [
       "                Timestamp  User ID# Method used for Test   Round 1   Round 2  \\\n",
       "0 2021-11-18 16:28:13.837      4973                Mouse  0.325000  0.267000   \n",
       "1 2021-11-18 16:28:51.866      4973             Spacebar  0.331990  0.232999   \n",
       "2 2021-11-18 16:29:36.305      4973          Touchscreen  0.298999  0.265990   \n",
       "3 2021-11-19 00:04:49.433      3007                Mouse  0.362000  0.322000   \n",
       "4 2021-11-19 00:06:10.527      3007             Spacebar  0.328999  0.331000   \n",
       "\n",
       "    Round 3  Round 4   Round 5  \n",
       "0  0.301000    0.229  0.267000  \n",
       "1  0.267000    0.231  0.300000  \n",
       "2  0.290000    0.266  0.298999  \n",
       "3  0.362000    0.329  0.329000  \n",
       "4  0.296999    0.331  0.269990  "
      ]
     },
     "execution_count": 2,
     "metadata": {},
     "output_type": "execute_result"
    }
   ],
   "source": [
    "response.head()"
   ]
  },
  {
   "cell_type": "code",
   "execution_count": 3,
   "metadata": {},
   "outputs": [
    {
     "data": {
      "text/html": [
       "<div>\n",
       "<style scoped>\n",
       "    .dataframe tbody tr th:only-of-type {\n",
       "        vertical-align: middle;\n",
       "    }\n",
       "\n",
       "    .dataframe tbody tr th {\n",
       "        vertical-align: top;\n",
       "    }\n",
       "\n",
       "    .dataframe thead th {\n",
       "        text-align: right;\n",
       "    }\n",
       "</style>\n",
       "<table border=\"1\" class=\"dataframe\">\n",
       "  <thead>\n",
       "    <tr style=\"text-align: right;\">\n",
       "      <th></th>\n",
       "      <th>Timestamp</th>\n",
       "      <th>What is your biological sex</th>\n",
       "      <th>What gender do you identify as?</th>\n",
       "      <th>Ethnicity</th>\n",
       "      <th>How old are you?</th>\n",
       "      <th>How familiar are you with technology?</th>\n",
       "      <th>Please enter a 4 digit, User ID between 1000 and 9999</th>\n",
       "    </tr>\n",
       "  </thead>\n",
       "  <tbody>\n",
       "    <tr>\n",
       "      <th>0</th>\n",
       "      <td>2021-11-18 16:27:23.791</td>\n",
       "      <td>Male</td>\n",
       "      <td>Male</td>\n",
       "      <td>Black or African American</td>\n",
       "      <td>15-24</td>\n",
       "      <td>10</td>\n",
       "      <td>4973</td>\n",
       "    </tr>\n",
       "    <tr>\n",
       "      <th>1</th>\n",
       "      <td>2021-11-19 00:09:51.197</td>\n",
       "      <td>Male</td>\n",
       "      <td>Male</td>\n",
       "      <td>Asian</td>\n",
       "      <td>25-44</td>\n",
       "      <td>10</td>\n",
       "      <td>3007</td>\n",
       "    </tr>\n",
       "    <tr>\n",
       "      <th>2</th>\n",
       "      <td>2021-11-21 16:59:09.298</td>\n",
       "      <td>Male</td>\n",
       "      <td>Male</td>\n",
       "      <td>Hispanic or Latino</td>\n",
       "      <td>25-44</td>\n",
       "      <td>10</td>\n",
       "      <td>5678</td>\n",
       "    </tr>\n",
       "    <tr>\n",
       "      <th>3</th>\n",
       "      <td>2021-11-21 17:07:57.382</td>\n",
       "      <td>Female</td>\n",
       "      <td>Female</td>\n",
       "      <td>Hispanic or Latino</td>\n",
       "      <td>25-44</td>\n",
       "      <td>10</td>\n",
       "      <td>6948</td>\n",
       "    </tr>\n",
       "    <tr>\n",
       "      <th>4</th>\n",
       "      <td>2021-11-23 14:36:28.392</td>\n",
       "      <td>Female</td>\n",
       "      <td>Female</td>\n",
       "      <td>White</td>\n",
       "      <td>25-44</td>\n",
       "      <td>10</td>\n",
       "      <td>4660</td>\n",
       "    </tr>\n",
       "  </tbody>\n",
       "</table>\n",
       "</div>"
      ],
      "text/plain": [
       "                Timestamp What is your biological sex  \\\n",
       "0 2021-11-18 16:27:23.791                        Male   \n",
       "1 2021-11-19 00:09:51.197                        Male   \n",
       "2 2021-11-21 16:59:09.298                        Male   \n",
       "3 2021-11-21 17:07:57.382                      Female   \n",
       "4 2021-11-23 14:36:28.392                      Female   \n",
       "\n",
       "  What gender do you identify as?                  Ethnicity  \\\n",
       "0                            Male  Black or African American   \n",
       "1                            Male                      Asian   \n",
       "2                            Male         Hispanic or Latino   \n",
       "3                          Female         Hispanic or Latino   \n",
       "4                          Female                      White   \n",
       "\n",
       "  How old are you?   How familiar are you with technology?   \\\n",
       "0             15-24                                      10   \n",
       "1             25-44                                      10   \n",
       "2             25-44                                      10   \n",
       "3             25-44                                      10   \n",
       "4             25-44                                      10   \n",
       "\n",
       "   Please enter a 4 digit, User ID between 1000 and 9999  \n",
       "0                                               4973      \n",
       "1                                               3007      \n",
       "2                                               5678      \n",
       "3                                               6948      \n",
       "4                                               4660      "
      ]
     },
     "execution_count": 3,
     "metadata": {},
     "output_type": "execute_result"
    }
   ],
   "source": [
    "demographic.head()"
   ]
  },
  {
   "cell_type": "code",
   "execution_count": 4,
   "metadata": {},
   "outputs": [
    {
     "data": {
      "text/plain": [
       "Index(['Timestamp', 'What is your biological sex',\n",
       "       'What gender do you identify as?', 'Ethnicity', 'How old are you? ',\n",
       "       'How familiar are you with technology? ',\n",
       "       'Please enter a 4 digit, User ID between 1000 and 9999'],\n",
       "      dtype='object')"
      ]
     },
     "execution_count": 4,
     "metadata": {},
     "output_type": "execute_result"
    }
   ],
   "source": [
    "demographic.columns"
   ]
  },
  {
   "cell_type": "markdown",
   "metadata": {},
   "source": [
    "So far so good! Next, we can drop the timestamp column as it not relevent to this research and does not help connect the data. "
   ]
  },
  {
   "cell_type": "code",
   "execution_count": 5,
   "metadata": {
    "scrolled": true
   },
   "outputs": [
    {
     "data": {
      "text/html": [
       "<div>\n",
       "<style scoped>\n",
       "    .dataframe tbody tr th:only-of-type {\n",
       "        vertical-align: middle;\n",
       "    }\n",
       "\n",
       "    .dataframe tbody tr th {\n",
       "        vertical-align: top;\n",
       "    }\n",
       "\n",
       "    .dataframe thead th {\n",
       "        text-align: right;\n",
       "    }\n",
       "</style>\n",
       "<table border=\"1\" class=\"dataframe\">\n",
       "  <thead>\n",
       "    <tr style=\"text-align: right;\">\n",
       "      <th></th>\n",
       "      <th>User ID#</th>\n",
       "      <th>Method used for Test</th>\n",
       "      <th>Round 1</th>\n",
       "      <th>Round 2</th>\n",
       "      <th>Round 3</th>\n",
       "      <th>Round 4</th>\n",
       "      <th>Round 5</th>\n",
       "    </tr>\n",
       "  </thead>\n",
       "  <tbody>\n",
       "    <tr>\n",
       "      <th>0</th>\n",
       "      <td>4973</td>\n",
       "      <td>Mouse</td>\n",
       "      <td>0.325000</td>\n",
       "      <td>0.267000</td>\n",
       "      <td>0.301000</td>\n",
       "      <td>0.229</td>\n",
       "      <td>0.267000</td>\n",
       "    </tr>\n",
       "    <tr>\n",
       "      <th>1</th>\n",
       "      <td>4973</td>\n",
       "      <td>Spacebar</td>\n",
       "      <td>0.331990</td>\n",
       "      <td>0.232999</td>\n",
       "      <td>0.267000</td>\n",
       "      <td>0.231</td>\n",
       "      <td>0.300000</td>\n",
       "    </tr>\n",
       "    <tr>\n",
       "      <th>2</th>\n",
       "      <td>4973</td>\n",
       "      <td>Touchscreen</td>\n",
       "      <td>0.298999</td>\n",
       "      <td>0.265990</td>\n",
       "      <td>0.290000</td>\n",
       "      <td>0.266</td>\n",
       "      <td>0.298999</td>\n",
       "    </tr>\n",
       "    <tr>\n",
       "      <th>3</th>\n",
       "      <td>3007</td>\n",
       "      <td>Mouse</td>\n",
       "      <td>0.362000</td>\n",
       "      <td>0.322000</td>\n",
       "      <td>0.362000</td>\n",
       "      <td>0.329</td>\n",
       "      <td>0.329000</td>\n",
       "    </tr>\n",
       "    <tr>\n",
       "      <th>4</th>\n",
       "      <td>3007</td>\n",
       "      <td>Spacebar</td>\n",
       "      <td>0.328999</td>\n",
       "      <td>0.331000</td>\n",
       "      <td>0.296999</td>\n",
       "      <td>0.331</td>\n",
       "      <td>0.269990</td>\n",
       "    </tr>\n",
       "  </tbody>\n",
       "</table>\n",
       "</div>"
      ],
      "text/plain": [
       "   User ID# Method used for Test   Round 1   Round 2   Round 3  Round 4  \\\n",
       "0      4973                Mouse  0.325000  0.267000  0.301000    0.229   \n",
       "1      4973             Spacebar  0.331990  0.232999  0.267000    0.231   \n",
       "2      4973          Touchscreen  0.298999  0.265990  0.290000    0.266   \n",
       "3      3007                Mouse  0.362000  0.322000  0.362000    0.329   \n",
       "4      3007             Spacebar  0.328999  0.331000  0.296999    0.331   \n",
       "\n",
       "    Round 5  \n",
       "0  0.267000  \n",
       "1  0.300000  \n",
       "2  0.298999  \n",
       "3  0.329000  \n",
       "4  0.269990  "
      ]
     },
     "execution_count": 5,
     "metadata": {},
     "output_type": "execute_result"
    }
   ],
   "source": [
    "response = response.drop(\"Timestamp\", axis = 1)\n",
    "demographic = demographic.drop(\"Timestamp\", axis = 1)\n",
    "\n",
    "response.head()"
   ]
  },
  {
   "cell_type": "markdown",
   "metadata": {},
   "source": [
    "Let's check the shape of the response time and demographic dataframes. These will be modified when we join them, but it is good to check ahead of time. "
   ]
  },
  {
   "cell_type": "code",
   "execution_count": 6,
   "metadata": {},
   "outputs": [
    {
     "data": {
      "text/plain": [
       "(61, 7)"
      ]
     },
     "execution_count": 6,
     "metadata": {},
     "output_type": "execute_result"
    }
   ],
   "source": [
    "response.shape"
   ]
  },
  {
   "cell_type": "code",
   "execution_count": 7,
   "metadata": {},
   "outputs": [
    {
     "data": {
      "text/plain": [
       "(20, 6)"
      ]
     },
     "execution_count": 7,
     "metadata": {},
     "output_type": "execute_result"
    }
   ],
   "source": [
    "demographic.shape"
   ]
  },
  {
   "cell_type": "code",
   "execution_count": 8,
   "metadata": {},
   "outputs": [
    {
     "data": {
      "text/plain": [
       "How old are you? \n",
       "14 or younger    3\n",
       "15-24            7\n",
       "25-44            4\n",
       "45-64            5\n",
       "65+              1\n",
       "dtype: int64"
      ]
     },
     "execution_count": 8,
     "metadata": {},
     "output_type": "execute_result"
    }
   ],
   "source": [
    "demographic.groupby(['How old are you? ']).size()"
   ]
  },
  {
   "cell_type": "code",
   "execution_count": 9,
   "metadata": {},
   "outputs": [],
   "source": [
    "import seaborn as sns"
   ]
  },
  {
   "cell_type": "code",
   "execution_count": 10,
   "metadata": {},
   "outputs": [
    {
     "data": {
      "text/plain": [
       "What gender do you identify as?\n",
       "Female    10\n",
       "Male      10\n",
       "dtype: int64"
      ]
     },
     "execution_count": 10,
     "metadata": {},
     "output_type": "execute_result"
    }
   ],
   "source": [
    "demographic.groupby(['What gender do you identify as?']).size()"
   ]
  },
  {
   "cell_type": "code",
   "execution_count": 11,
   "metadata": {},
   "outputs": [
    {
     "name": "stdout",
     "output_type": "stream",
     "text": [
      "What is your biological sex\n",
      "Female    10\n",
      "Male      10\n",
      "dtype: int64\n"
     ]
    },
    {
     "data": {
      "text/plain": [
       "<AxesSubplot:xlabel='What is your biological sex', ylabel='Count'>"
      ]
     },
     "execution_count": 11,
     "metadata": {},
     "output_type": "execute_result"
    },
    {
     "data": {
      "image/png": "[encoded data removed]",
      "text/plain": [
       "<Figure size 432x288 with 1 Axes>"
      ]
     },
     "metadata": {
      "needs_background": "light"
     },
     "output_type": "display_data"
    }
   ],
   "source": [
    "print(demographic.groupby(['What is your biological sex']).size()) \n",
    "sns.histplot(x = 'What is your biological sex', data= demographic, hue = 'What is your biological sex', legend = False)"
   ]
  },
  {
   "cell_type": "markdown",
   "metadata": {},
   "source": [
    "We will be merging the data sets together to match up the response times with the demographic information. This will allow us to have a single dataset that will be accessable. We are merging at the User_ID number."
   ]
  },
  {
   "cell_type": "code",
   "execution_count": 12,
   "metadata": {},
   "outputs": [
    {
     "data": {
      "text/html": [
       "<div>\n",
       "<style scoped>\n",
       "    .dataframe tbody tr th:only-of-type {\n",
       "        vertical-align: middle;\n",
       "    }\n",
       "\n",
       "    .dataframe tbody tr th {\n",
       "        vertical-align: top;\n",
       "    }\n",
       "\n",
       "    .dataframe thead th {\n",
       "        text-align: right;\n",
       "    }\n",
       "</style>\n",
       "<table border=\"1\" class=\"dataframe\">\n",
       "  <thead>\n",
       "    <tr style=\"text-align: right;\">\n",
       "      <th></th>\n",
       "      <th>What is your biological sex</th>\n",
       "      <th>What gender do you identify as?</th>\n",
       "      <th>Ethnicity</th>\n",
       "      <th>How old are you?</th>\n",
       "      <th>How familiar are you with technology?</th>\n",
       "      <th>Please enter a 4 digit, User ID between 1000 and 9999</th>\n",
       "      <th>User ID#</th>\n",
       "      <th>Method used for Test</th>\n",
       "      <th>Round 1</th>\n",
       "      <th>Round 2</th>\n",
       "      <th>Round 3</th>\n",
       "      <th>Round 4</th>\n",
       "      <th>Round 5</th>\n",
       "    </tr>\n",
       "  </thead>\n",
       "  <tbody>\n",
       "    <tr>\n",
       "      <th>0</th>\n",
       "      <td>Male</td>\n",
       "      <td>Male</td>\n",
       "      <td>Black or African American</td>\n",
       "      <td>15-24</td>\n",
       "      <td>10</td>\n",
       "      <td>4973</td>\n",
       "      <td>4973</td>\n",
       "      <td>Mouse</td>\n",
       "      <td>0.325000</td>\n",
       "      <td>0.267000</td>\n",
       "      <td>0.301000</td>\n",
       "      <td>0.229</td>\n",
       "      <td>0.267000</td>\n",
       "    </tr>\n",
       "    <tr>\n",
       "      <th>1</th>\n",
       "      <td>Male</td>\n",
       "      <td>Male</td>\n",
       "      <td>Black or African American</td>\n",
       "      <td>15-24</td>\n",
       "      <td>10</td>\n",
       "      <td>4973</td>\n",
       "      <td>4973</td>\n",
       "      <td>Spacebar</td>\n",
       "      <td>0.331990</td>\n",
       "      <td>0.232999</td>\n",
       "      <td>0.267000</td>\n",
       "      <td>0.231</td>\n",
       "      <td>0.300000</td>\n",
       "    </tr>\n",
       "    <tr>\n",
       "      <th>2</th>\n",
       "      <td>Male</td>\n",
       "      <td>Male</td>\n",
       "      <td>Black or African American</td>\n",
       "      <td>15-24</td>\n",
       "      <td>10</td>\n",
       "      <td>4973</td>\n",
       "      <td>4973</td>\n",
       "      <td>Touchscreen</td>\n",
       "      <td>0.298999</td>\n",
       "      <td>0.265990</td>\n",
       "      <td>0.290000</td>\n",
       "      <td>0.266</td>\n",
       "      <td>0.298999</td>\n",
       "    </tr>\n",
       "    <tr>\n",
       "      <th>3</th>\n",
       "      <td>Male</td>\n",
       "      <td>Male</td>\n",
       "      <td>Asian</td>\n",
       "      <td>25-44</td>\n",
       "      <td>10</td>\n",
       "      <td>3007</td>\n",
       "      <td>3007</td>\n",
       "      <td>Mouse</td>\n",
       "      <td>0.362000</td>\n",
       "      <td>0.322000</td>\n",
       "      <td>0.362000</td>\n",
       "      <td>0.329</td>\n",
       "      <td>0.329000</td>\n",
       "    </tr>\n",
       "    <tr>\n",
       "      <th>4</th>\n",
       "      <td>Male</td>\n",
       "      <td>Male</td>\n",
       "      <td>Asian</td>\n",
       "      <td>25-44</td>\n",
       "      <td>10</td>\n",
       "      <td>3007</td>\n",
       "      <td>3007</td>\n",
       "      <td>Spacebar</td>\n",
       "      <td>0.328999</td>\n",
       "      <td>0.331000</td>\n",
       "      <td>0.296999</td>\n",
       "      <td>0.331</td>\n",
       "      <td>0.269990</td>\n",
       "    </tr>\n",
       "  </tbody>\n",
       "</table>\n",
       "</div>"
      ],
      "text/plain": [
       "  What is your biological sex What gender do you identify as?  \\\n",
       "0                        Male                            Male   \n",
       "1                        Male                            Male   \n",
       "2                        Male                            Male   \n",
       "3                        Male                            Male   \n",
       "4                        Male                            Male   \n",
       "\n",
       "                   Ethnicity How old are you?   \\\n",
       "0  Black or African American             15-24   \n",
       "1  Black or African American             15-24   \n",
       "2  Black or African American             15-24   \n",
       "3                      Asian             25-44   \n",
       "4                      Asian             25-44   \n",
       "\n",
       "   How familiar are you with technology?   \\\n",
       "0                                      10   \n",
       "1                                      10   \n",
       "2                                      10   \n",
       "3                                      10   \n",
       "4                                      10   \n",
       "\n",
       "   Please enter a 4 digit, User ID between 1000 and 9999  User ID#  \\\n",
       "0                                               4973          4973   \n",
       "1                                               4973          4973   \n",
       "2                                               4973          4973   \n",
       "3                                               3007          3007   \n",
       "4                                               3007          3007   \n",
       "\n",
       "  Method used for Test   Round 1   Round 2   Round 3  Round 4   Round 5  \n",
       "0                Mouse  0.325000  0.267000  0.301000    0.229  0.267000  \n",
       "1             Spacebar  0.331990  0.232999  0.267000    0.231  0.300000  \n",
       "2          Touchscreen  0.298999  0.265990  0.290000    0.266  0.298999  \n",
       "3                Mouse  0.362000  0.322000  0.362000    0.329  0.329000  \n",
       "4             Spacebar  0.328999  0.331000  0.296999    0.331  0.269990  "
      ]
     },
     "execution_count": 12,
     "metadata": {},
     "output_type": "execute_result"
    }
   ],
   "source": [
    "df = pd.merge(left=demographic, right=response,\n",
    "              left_on='Please enter a 4 digit, User ID between 1000 and 9999', \n",
    "              right_on='User ID#')\n",
    "df.head()"
   ]
  },
  {
   "cell_type": "markdown",
   "metadata": {},
   "source": [
    "Check the shape to make sure the merge worked."
   ]
  },
  {
   "cell_type": "code",
   "execution_count": 13,
   "metadata": {},
   "outputs": [
    {
     "data": {
      "text/plain": [
       "(61, 13)"
      ]
     },
     "execution_count": 13,
     "metadata": {},
     "output_type": "execute_result"
    }
   ],
   "source": [
    "df.shape"
   ]
  },
  {
   "cell_type": "markdown",
   "metadata": {},
   "source": [
    "If you got the same number of rows as the response dataframe and columns equal to the sum of the two dataframes, everything worked flawlessly. If not more investigation is needed. \n",
    "\n",
    "We are now going to drop one instance of the user ID number as the dupicate is not needed for anything further. "
   ]
  },
  {
   "cell_type": "code",
   "execution_count": 14,
   "metadata": {},
   "outputs": [
    {
     "data": {
      "text/html": [
       "<div>\n",
       "<style scoped>\n",
       "    .dataframe tbody tr th:only-of-type {\n",
       "        vertical-align: middle;\n",
       "    }\n",
       "\n",
       "    .dataframe tbody tr th {\n",
       "        vertical-align: top;\n",
       "    }\n",
       "\n",
       "    .dataframe thead th {\n",
       "        text-align: right;\n",
       "    }\n",
       "</style>\n",
       "<table border=\"1\" class=\"dataframe\">\n",
       "  <thead>\n",
       "    <tr style=\"text-align: right;\">\n",
       "      <th></th>\n",
       "      <th>What is your biological sex</th>\n",
       "      <th>What gender do you identify as?</th>\n",
       "      <th>Ethnicity</th>\n",
       "      <th>How old are you?</th>\n",
       "      <th>How familiar are you with technology?</th>\n",
       "      <th>User ID#</th>\n",
       "      <th>Method used for Test</th>\n",
       "      <th>Round 1</th>\n",
       "      <th>Round 2</th>\n",
       "      <th>Round 3</th>\n",
       "      <th>Round 4</th>\n",
       "      <th>Round 5</th>\n",
       "    </tr>\n",
       "  </thead>\n",
       "  <tbody>\n",
       "    <tr>\n",
       "      <th>0</th>\n",
       "      <td>Male</td>\n",
       "      <td>Male</td>\n",
       "      <td>Black or African American</td>\n",
       "      <td>15-24</td>\n",
       "      <td>10</td>\n",
       "      <td>4973</td>\n",
       "      <td>Mouse</td>\n",
       "      <td>0.325000</td>\n",
       "      <td>0.267000</td>\n",
       "      <td>0.301000</td>\n",
       "      <td>0.229</td>\n",
       "      <td>0.267000</td>\n",
       "    </tr>\n",
       "    <tr>\n",
       "      <th>1</th>\n",
       "      <td>Male</td>\n",
       "      <td>Male</td>\n",
       "      <td>Black or African American</td>\n",
       "      <td>15-24</td>\n",
       "      <td>10</td>\n",
       "      <td>4973</td>\n",
       "      <td>Spacebar</td>\n",
       "      <td>0.331990</td>\n",
       "      <td>0.232999</td>\n",
       "      <td>0.267000</td>\n",
       "      <td>0.231</td>\n",
       "      <td>0.300000</td>\n",
       "    </tr>\n",
       "    <tr>\n",
       "      <th>2</th>\n",
       "      <td>Male</td>\n",
       "      <td>Male</td>\n",
       "      <td>Black or African American</td>\n",
       "      <td>15-24</td>\n",
       "      <td>10</td>\n",
       "      <td>4973</td>\n",
       "      <td>Touchscreen</td>\n",
       "      <td>0.298999</td>\n",
       "      <td>0.265990</td>\n",
       "      <td>0.290000</td>\n",
       "      <td>0.266</td>\n",
       "      <td>0.298999</td>\n",
       "    </tr>\n",
       "    <tr>\n",
       "      <th>3</th>\n",
       "      <td>Male</td>\n",
       "      <td>Male</td>\n",
       "      <td>Asian</td>\n",
       "      <td>25-44</td>\n",
       "      <td>10</td>\n",
       "      <td>3007</td>\n",
       "      <td>Mouse</td>\n",
       "      <td>0.362000</td>\n",
       "      <td>0.322000</td>\n",
       "      <td>0.362000</td>\n",
       "      <td>0.329</td>\n",
       "      <td>0.329000</td>\n",
       "    </tr>\n",
       "    <tr>\n",
       "      <th>4</th>\n",
       "      <td>Male</td>\n",
       "      <td>Male</td>\n",
       "      <td>Asian</td>\n",
       "      <td>25-44</td>\n",
       "      <td>10</td>\n",
       "      <td>3007</td>\n",
       "      <td>Spacebar</td>\n",
       "      <td>0.328999</td>\n",
       "      <td>0.331000</td>\n",
       "      <td>0.296999</td>\n",
       "      <td>0.331</td>\n",
       "      <td>0.269990</td>\n",
       "    </tr>\n",
       "  </tbody>\n",
       "</table>\n",
       "</div>"
      ],
      "text/plain": [
       "  What is your biological sex What gender do you identify as?  \\\n",
       "0                        Male                            Male   \n",
       "1                        Male                            Male   \n",
       "2                        Male                            Male   \n",
       "3                        Male                            Male   \n",
       "4                        Male                            Male   \n",
       "\n",
       "                   Ethnicity How old are you?   \\\n",
       "0  Black or African American             15-24   \n",
       "1  Black or African American             15-24   \n",
       "2  Black or African American             15-24   \n",
       "3                      Asian             25-44   \n",
       "4                      Asian             25-44   \n",
       "\n",
       "   How familiar are you with technology?   User ID# Method used for Test  \\\n",
       "0                                      10      4973                Mouse   \n",
       "1                                      10      4973             Spacebar   \n",
       "2                                      10      4973          Touchscreen   \n",
       "3                                      10      3007                Mouse   \n",
       "4                                      10      3007             Spacebar   \n",
       "\n",
       "    Round 1   Round 2   Round 3  Round 4   Round 5  \n",
       "0  0.325000  0.267000  0.301000    0.229  0.267000  \n",
       "1  0.331990  0.232999  0.267000    0.231  0.300000  \n",
       "2  0.298999  0.265990  0.290000    0.266  0.298999  \n",
       "3  0.362000  0.322000  0.362000    0.329  0.329000  \n",
       "4  0.328999  0.331000  0.296999    0.331  0.269990  "
      ]
     },
     "execution_count": 14,
     "metadata": {},
     "output_type": "execute_result"
    }
   ],
   "source": [
    "df = df.drop(columns = 'Please enter a 4 digit, User ID between 1000 and 9999')\n",
    "df.head()"
   ]
  },
  {
   "cell_type": "code",
   "execution_count": 15,
   "metadata": {},
   "outputs": [
    {
     "data": {
      "text/plain": [
       "(61, 12)"
      ]
     },
     "execution_count": 15,
     "metadata": {},
     "output_type": "execute_result"
    }
   ],
   "source": [
    "df.shape"
   ]
  },
  {
   "cell_type": "markdown",
   "metadata": {},
   "source": [
    "## Check for NA/Null and Zero values"
   ]
  },
  {
   "cell_type": "code",
   "execution_count": 16,
   "metadata": {
    "scrolled": true
   },
   "outputs": [
    {
     "data": {
      "text/plain": [
       "What is your biological sex               0\n",
       "What gender do you identify as?           0\n",
       "Ethnicity                                 0\n",
       "How old are you?                          0\n",
       "How familiar are you with technology?     0\n",
       "User ID#                                  0\n",
       "Method used for Test                      0\n",
       "Round 1                                   0\n",
       "Round 2                                   0\n",
       "Round 3                                   0\n",
       "Round 4                                   0\n",
       "Round 5                                   0\n",
       "dtype: int64"
      ]
     },
     "execution_count": 16,
     "metadata": {},
     "output_type": "execute_result"
    }
   ],
   "source": [
    "df.isnull().sum()"
   ]
  },
  {
   "cell_type": "code",
   "execution_count": 17,
   "metadata": {},
   "outputs": [
    {
     "data": {
      "text/plain": [
       "What is your biological sex               0\n",
       "What gender do you identify as?           0\n",
       "Ethnicity                                 0\n",
       "How old are you?                          0\n",
       "How familiar are you with technology?     0\n",
       "User ID#                                  0\n",
       "Method used for Test                      0\n",
       "Round 1                                   0\n",
       "Round 2                                   0\n",
       "Round 3                                   0\n",
       "Round 4                                   0\n",
       "Round 5                                   0\n",
       "dtype: int64"
      ]
     },
     "execution_count": 17,
     "metadata": {},
     "output_type": "execute_result"
    }
   ],
   "source": [
    "df.isna().sum()"
   ]
  },
  {
   "cell_type": "markdown",
   "metadata": {},
   "source": [
    "## Transform the data\n",
    "We are going to melt the columns into rows so that there is only one column that records the response variable of reaction time time. First, we need to get all of the column names. "
   ]
  },
  {
   "cell_type": "code",
   "execution_count": 18,
   "metadata": {},
   "outputs": [
    {
     "data": {
      "text/plain": [
       "['What is your biological sex',\n",
       " 'What gender do you identify as?',\n",
       " 'Ethnicity',\n",
       " 'How old are you? ',\n",
       " 'How familiar are you with technology? ',\n",
       " 'User ID#',\n",
       " 'Method used for Test',\n",
       " 'Round 1',\n",
       " 'Round 2',\n",
       " 'Round 3',\n",
       " 'Round 4',\n",
       " 'Round 5']"
      ]
     },
     "execution_count": 18,
     "metadata": {},
     "output_type": "execute_result"
    }
   ],
   "source": [
    "df.columns.values.tolist()"
   ]
  },
  {
   "cell_type": "markdown",
   "metadata": {},
   "source": [
    "This will condense all of the rounds 1-5 into one column. To make sure everything works we need to know how many methods there are and how many rounds there are."
   ]
  },
  {
   "cell_type": "code",
   "execution_count": 19,
   "metadata": {},
   "outputs": [
    {
     "data": {
      "text/plain": [
       "{'Mouse', 'Spacebar', 'Touchscreen'}"
      ]
     },
     "execution_count": 19,
     "metadata": {},
     "output_type": "execute_result"
    }
   ],
   "source": [
    "set(df['Method used for Test'])"
   ]
  },
  {
   "cell_type": "code",
   "execution_count": 20,
   "metadata": {},
   "outputs": [
    {
     "data": {
      "text/plain": [
       "3"
      ]
     },
     "execution_count": 20,
     "metadata": {},
     "output_type": "execute_result"
    }
   ],
   "source": [
    "len(set(df['Method used for Test']))"
   ]
  },
  {
   "cell_type": "markdown",
   "metadata": {},
   "source": [
    "Since there are currently 3 methods and 5 rounds we would expect each user id to have a total of 15 reaction times recorded. We will confirm this after the melt. "
   ]
  },
  {
   "cell_type": "code",
   "execution_count": 21,
   "metadata": {
    "scrolled": false
   },
   "outputs": [
    {
     "data": {
      "text/html": [
       "<div>\n",
       "<style scoped>\n",
       "    .dataframe tbody tr th:only-of-type {\n",
       "        vertical-align: middle;\n",
       "    }\n",
       "\n",
       "    .dataframe tbody tr th {\n",
       "        vertical-align: top;\n",
       "    }\n",
       "\n",
       "    .dataframe thead th {\n",
       "        text-align: right;\n",
       "    }\n",
       "</style>\n",
       "<table border=\"1\" class=\"dataframe\">\n",
       "  <thead>\n",
       "    <tr style=\"text-align: right;\">\n",
       "      <th></th>\n",
       "      <th>What is your biological sex</th>\n",
       "      <th>What gender do you identify as?</th>\n",
       "      <th>Ethnicity</th>\n",
       "      <th>How old are you?</th>\n",
       "      <th>How familiar are you with technology?</th>\n",
       "      <th>User ID#</th>\n",
       "      <th>Method used for Test</th>\n",
       "      <th>round</th>\n",
       "      <th>time</th>\n",
       "    </tr>\n",
       "  </thead>\n",
       "  <tbody>\n",
       "    <tr>\n",
       "      <th>0</th>\n",
       "      <td>Male</td>\n",
       "      <td>Male</td>\n",
       "      <td>Black or African American</td>\n",
       "      <td>15-24</td>\n",
       "      <td>10</td>\n",
       "      <td>4973</td>\n",
       "      <td>Mouse</td>\n",
       "      <td>Round 1</td>\n",
       "      <td>0.325000</td>\n",
       "    </tr>\n",
       "    <tr>\n",
       "      <th>1</th>\n",
       "      <td>Male</td>\n",
       "      <td>Male</td>\n",
       "      <td>Black or African American</td>\n",
       "      <td>15-24</td>\n",
       "      <td>10</td>\n",
       "      <td>4973</td>\n",
       "      <td>Spacebar</td>\n",
       "      <td>Round 1</td>\n",
       "      <td>0.331990</td>\n",
       "    </tr>\n",
       "    <tr>\n",
       "      <th>2</th>\n",
       "      <td>Male</td>\n",
       "      <td>Male</td>\n",
       "      <td>Black or African American</td>\n",
       "      <td>15-24</td>\n",
       "      <td>10</td>\n",
       "      <td>4973</td>\n",
       "      <td>Touchscreen</td>\n",
       "      <td>Round 1</td>\n",
       "      <td>0.298999</td>\n",
       "    </tr>\n",
       "    <tr>\n",
       "      <th>61</th>\n",
       "      <td>Male</td>\n",
       "      <td>Male</td>\n",
       "      <td>Black or African American</td>\n",
       "      <td>15-24</td>\n",
       "      <td>10</td>\n",
       "      <td>4973</td>\n",
       "      <td>Mouse</td>\n",
       "      <td>Round 2</td>\n",
       "      <td>0.267000</td>\n",
       "    </tr>\n",
       "    <tr>\n",
       "      <th>62</th>\n",
       "      <td>Male</td>\n",
       "      <td>Male</td>\n",
       "      <td>Black or African American</td>\n",
       "      <td>15-24</td>\n",
       "      <td>10</td>\n",
       "      <td>4973</td>\n",
       "      <td>Spacebar</td>\n",
       "      <td>Round 2</td>\n",
       "      <td>0.232999</td>\n",
       "    </tr>\n",
       "    <tr>\n",
       "      <th>63</th>\n",
       "      <td>Male</td>\n",
       "      <td>Male</td>\n",
       "      <td>Black or African American</td>\n",
       "      <td>15-24</td>\n",
       "      <td>10</td>\n",
       "      <td>4973</td>\n",
       "      <td>Touchscreen</td>\n",
       "      <td>Round 2</td>\n",
       "      <td>0.265990</td>\n",
       "    </tr>\n",
       "    <tr>\n",
       "      <th>122</th>\n",
       "      <td>Male</td>\n",
       "      <td>Male</td>\n",
       "      <td>Black or African American</td>\n",
       "      <td>15-24</td>\n",
       "      <td>10</td>\n",
       "      <td>4973</td>\n",
       "      <td>Mouse</td>\n",
       "      <td>Round 3</td>\n",
       "      <td>0.301000</td>\n",
       "    </tr>\n",
       "    <tr>\n",
       "      <th>123</th>\n",
       "      <td>Male</td>\n",
       "      <td>Male</td>\n",
       "      <td>Black or African American</td>\n",
       "      <td>15-24</td>\n",
       "      <td>10</td>\n",
       "      <td>4973</td>\n",
       "      <td>Spacebar</td>\n",
       "      <td>Round 3</td>\n",
       "      <td>0.267000</td>\n",
       "    </tr>\n",
       "    <tr>\n",
       "      <th>124</th>\n",
       "      <td>Male</td>\n",
       "      <td>Male</td>\n",
       "      <td>Black or African American</td>\n",
       "      <td>15-24</td>\n",
       "      <td>10</td>\n",
       "      <td>4973</td>\n",
       "      <td>Touchscreen</td>\n",
       "      <td>Round 3</td>\n",
       "      <td>0.290000</td>\n",
       "    </tr>\n",
       "    <tr>\n",
       "      <th>183</th>\n",
       "      <td>Male</td>\n",
       "      <td>Male</td>\n",
       "      <td>Black or African American</td>\n",
       "      <td>15-24</td>\n",
       "      <td>10</td>\n",
       "      <td>4973</td>\n",
       "      <td>Mouse</td>\n",
       "      <td>Round 4</td>\n",
       "      <td>0.229000</td>\n",
       "    </tr>\n",
       "    <tr>\n",
       "      <th>184</th>\n",
       "      <td>Male</td>\n",
       "      <td>Male</td>\n",
       "      <td>Black or African American</td>\n",
       "      <td>15-24</td>\n",
       "      <td>10</td>\n",
       "      <td>4973</td>\n",
       "      <td>Spacebar</td>\n",
       "      <td>Round 4</td>\n",
       "      <td>0.231000</td>\n",
       "    </tr>\n",
       "    <tr>\n",
       "      <th>185</th>\n",
       "      <td>Male</td>\n",
       "      <td>Male</td>\n",
       "      <td>Black or African American</td>\n",
       "      <td>15-24</td>\n",
       "      <td>10</td>\n",
       "      <td>4973</td>\n",
       "      <td>Touchscreen</td>\n",
       "      <td>Round 4</td>\n",
       "      <td>0.266000</td>\n",
       "    </tr>\n",
       "    <tr>\n",
       "      <th>244</th>\n",
       "      <td>Male</td>\n",
       "      <td>Male</td>\n",
       "      <td>Black or African American</td>\n",
       "      <td>15-24</td>\n",
       "      <td>10</td>\n",
       "      <td>4973</td>\n",
       "      <td>Mouse</td>\n",
       "      <td>Round 5</td>\n",
       "      <td>0.267000</td>\n",
       "    </tr>\n",
       "    <tr>\n",
       "      <th>245</th>\n",
       "      <td>Male</td>\n",
       "      <td>Male</td>\n",
       "      <td>Black or African American</td>\n",
       "      <td>15-24</td>\n",
       "      <td>10</td>\n",
       "      <td>4973</td>\n",
       "      <td>Spacebar</td>\n",
       "      <td>Round 5</td>\n",
       "      <td>0.300000</td>\n",
       "    </tr>\n",
       "    <tr>\n",
       "      <th>246</th>\n",
       "      <td>Male</td>\n",
       "      <td>Male</td>\n",
       "      <td>Black or African American</td>\n",
       "      <td>15-24</td>\n",
       "      <td>10</td>\n",
       "      <td>4973</td>\n",
       "      <td>Touchscreen</td>\n",
       "      <td>Round 5</td>\n",
       "      <td>0.298999</td>\n",
       "    </tr>\n",
       "  </tbody>\n",
       "</table>\n",
       "</div>"
      ],
      "text/plain": [
       "    What is your biological sex What gender do you identify as?  \\\n",
       "0                          Male                            Male   \n",
       "1                          Male                            Male   \n",
       "2                          Male                            Male   \n",
       "61                         Male                            Male   \n",
       "62                         Male                            Male   \n",
       "63                         Male                            Male   \n",
       "122                        Male                            Male   \n",
       "123                        Male                            Male   \n",
       "124                        Male                            Male   \n",
       "183                        Male                            Male   \n",
       "184                        Male                            Male   \n",
       "185                        Male                            Male   \n",
       "244                        Male                            Male   \n",
       "245                        Male                            Male   \n",
       "246                        Male                            Male   \n",
       "\n",
       "                     Ethnicity How old are you?   \\\n",
       "0    Black or African American             15-24   \n",
       "1    Black or African American             15-24   \n",
       "2    Black or African American             15-24   \n",
       "61   Black or African American             15-24   \n",
       "62   Black or African American             15-24   \n",
       "63   Black or African American             15-24   \n",
       "122  Black or African American             15-24   \n",
       "123  Black or African American             15-24   \n",
       "124  Black or African American             15-24   \n",
       "183  Black or African American             15-24   \n",
       "184  Black or African American             15-24   \n",
       "185  Black or African American             15-24   \n",
       "244  Black or African American             15-24   \n",
       "245  Black or African American             15-24   \n",
       "246  Black or African American             15-24   \n",
       "\n",
       "     How familiar are you with technology?   User ID# Method used for Test  \\\n",
       "0                                        10      4973                Mouse   \n",
       "1                                        10      4973             Spacebar   \n",
       "2                                        10      4973          Touchscreen   \n",
       "61                                       10      4973                Mouse   \n",
       "62                                       10      4973             Spacebar   \n",
       "63                                       10      4973          Touchscreen   \n",
       "122                                      10      4973                Mouse   \n",
       "123                                      10      4973             Spacebar   \n",
       "124                                      10      4973          Touchscreen   \n",
       "183                                      10      4973                Mouse   \n",
       "184                                      10      4973             Spacebar   \n",
       "185                                      10      4973          Touchscreen   \n",
       "244                                      10      4973                Mouse   \n",
       "245                                      10      4973             Spacebar   \n",
       "246                                      10      4973          Touchscreen   \n",
       "\n",
       "       round      time  \n",
       "0    Round 1  0.325000  \n",
       "1    Round 1  0.331990  \n",
       "2    Round 1  0.298999  \n",
       "61   Round 2  0.267000  \n",
       "62   Round 2  0.232999  \n",
       "63   Round 2  0.265990  \n",
       "122  Round 3  0.301000  \n",
       "123  Round 3  0.267000  \n",
       "124  Round 3  0.290000  \n",
       "183  Round 4  0.229000  \n",
       "184  Round 4  0.231000  \n",
       "185  Round 4  0.266000  \n",
       "244  Round 5  0.267000  \n",
       "245  Round 5  0.300000  \n",
       "246  Round 5  0.298999  "
      ]
     },
     "execution_count": 21,
     "metadata": {},
     "output_type": "execute_result"
    }
   ],
   "source": [
    "df_melt = pd.melt(df.reset_index(),\n",
    "                  id_vars    = df.columns.values.tolist()[0:7], \n",
    "                  value_vars = df.columns.values.tolist()[7:12],\n",
    "                  var_name   = 'round',\n",
    "                  value_name = 'time')\n",
    "\n",
    "df_melt[df_melt['User ID#'] == 4973] "
   ]
  },
  {
   "cell_type": "code",
   "execution_count": 22,
   "metadata": {},
   "outputs": [
    {
     "data": {
      "text/plain": [
       "15"
      ]
     },
     "execution_count": 22,
     "metadata": {},
     "output_type": "execute_result"
    }
   ],
   "source": [
    "df_melt[df_melt['User ID#'] == 4973]['time'].count()"
   ]
  },
  {
   "cell_type": "markdown",
   "metadata": {},
   "source": [
    "They do. This melt has worked!"
   ]
  },
  {
   "cell_type": "code",
   "execution_count": 23,
   "metadata": {},
   "outputs": [
    {
     "data": {
      "text/plain": [
       "(305, 9)"
      ]
     },
     "execution_count": 23,
     "metadata": {},
     "output_type": "execute_result"
    }
   ],
   "source": [
    "df_melt.shape"
   ]
  },
  {
   "cell_type": "markdown",
   "metadata": {},
   "source": [
    "Rename the columns for easier refrencing in later work. "
   ]
  },
  {
   "cell_type": "code",
   "execution_count": 24,
   "metadata": {},
   "outputs": [
    {
     "data": {
      "text/html": [
       "<div>\n",
       "<style scoped>\n",
       "    .dataframe tbody tr th:only-of-type {\n",
       "        vertical-align: middle;\n",
       "    }\n",
       "\n",
       "    .dataframe tbody tr th {\n",
       "        vertical-align: top;\n",
       "    }\n",
       "\n",
       "    .dataframe thead th {\n",
       "        text-align: right;\n",
       "    }\n",
       "</style>\n",
       "<table border=\"1\" class=\"dataframe\">\n",
       "  <thead>\n",
       "    <tr style=\"text-align: right;\">\n",
       "      <th></th>\n",
       "      <th>sex</th>\n",
       "      <th>gender</th>\n",
       "      <th>ethnicity</th>\n",
       "      <th>age</th>\n",
       "      <th>tech_level</th>\n",
       "      <th>user_id</th>\n",
       "      <th>method</th>\n",
       "      <th>round</th>\n",
       "      <th>time</th>\n",
       "    </tr>\n",
       "  </thead>\n",
       "  <tbody>\n",
       "    <tr>\n",
       "      <th>0</th>\n",
       "      <td>Male</td>\n",
       "      <td>Male</td>\n",
       "      <td>Black or African American</td>\n",
       "      <td>15-24</td>\n",
       "      <td>10</td>\n",
       "      <td>4973</td>\n",
       "      <td>Mouse</td>\n",
       "      <td>Round 1</td>\n",
       "      <td>0.325000</td>\n",
       "    </tr>\n",
       "    <tr>\n",
       "      <th>1</th>\n",
       "      <td>Male</td>\n",
       "      <td>Male</td>\n",
       "      <td>Black or African American</td>\n",
       "      <td>15-24</td>\n",
       "      <td>10</td>\n",
       "      <td>4973</td>\n",
       "      <td>Spacebar</td>\n",
       "      <td>Round 1</td>\n",
       "      <td>0.331990</td>\n",
       "    </tr>\n",
       "    <tr>\n",
       "      <th>2</th>\n",
       "      <td>Male</td>\n",
       "      <td>Male</td>\n",
       "      <td>Black or African American</td>\n",
       "      <td>15-24</td>\n",
       "      <td>10</td>\n",
       "      <td>4973</td>\n",
       "      <td>Touchscreen</td>\n",
       "      <td>Round 1</td>\n",
       "      <td>0.298999</td>\n",
       "    </tr>\n",
       "    <tr>\n",
       "      <th>61</th>\n",
       "      <td>Male</td>\n",
       "      <td>Male</td>\n",
       "      <td>Black or African American</td>\n",
       "      <td>15-24</td>\n",
       "      <td>10</td>\n",
       "      <td>4973</td>\n",
       "      <td>Mouse</td>\n",
       "      <td>Round 2</td>\n",
       "      <td>0.267000</td>\n",
       "    </tr>\n",
       "    <tr>\n",
       "      <th>62</th>\n",
       "      <td>Male</td>\n",
       "      <td>Male</td>\n",
       "      <td>Black or African American</td>\n",
       "      <td>15-24</td>\n",
       "      <td>10</td>\n",
       "      <td>4973</td>\n",
       "      <td>Spacebar</td>\n",
       "      <td>Round 2</td>\n",
       "      <td>0.232999</td>\n",
       "    </tr>\n",
       "    <tr>\n",
       "      <th>63</th>\n",
       "      <td>Male</td>\n",
       "      <td>Male</td>\n",
       "      <td>Black or African American</td>\n",
       "      <td>15-24</td>\n",
       "      <td>10</td>\n",
       "      <td>4973</td>\n",
       "      <td>Touchscreen</td>\n",
       "      <td>Round 2</td>\n",
       "      <td>0.265990</td>\n",
       "    </tr>\n",
       "    <tr>\n",
       "      <th>122</th>\n",
       "      <td>Male</td>\n",
       "      <td>Male</td>\n",
       "      <td>Black or African American</td>\n",
       "      <td>15-24</td>\n",
       "      <td>10</td>\n",
       "      <td>4973</td>\n",
       "      <td>Mouse</td>\n",
       "      <td>Round 3</td>\n",
       "      <td>0.301000</td>\n",
       "    </tr>\n",
       "    <tr>\n",
       "      <th>123</th>\n",
       "      <td>Male</td>\n",
       "      <td>Male</td>\n",
       "      <td>Black or African American</td>\n",
       "      <td>15-24</td>\n",
       "      <td>10</td>\n",
       "      <td>4973</td>\n",
       "      <td>Spacebar</td>\n",
       "      <td>Round 3</td>\n",
       "      <td>0.267000</td>\n",
       "    </tr>\n",
       "    <tr>\n",
       "      <th>124</th>\n",
       "      <td>Male</td>\n",
       "      <td>Male</td>\n",
       "      <td>Black or African American</td>\n",
       "      <td>15-24</td>\n",
       "      <td>10</td>\n",
       "      <td>4973</td>\n",
       "      <td>Touchscreen</td>\n",
       "      <td>Round 3</td>\n",
       "      <td>0.290000</td>\n",
       "    </tr>\n",
       "    <tr>\n",
       "      <th>183</th>\n",
       "      <td>Male</td>\n",
       "      <td>Male</td>\n",
       "      <td>Black or African American</td>\n",
       "      <td>15-24</td>\n",
       "      <td>10</td>\n",
       "      <td>4973</td>\n",
       "      <td>Mouse</td>\n",
       "      <td>Round 4</td>\n",
       "      <td>0.229000</td>\n",
       "    </tr>\n",
       "    <tr>\n",
       "      <th>184</th>\n",
       "      <td>Male</td>\n",
       "      <td>Male</td>\n",
       "      <td>Black or African American</td>\n",
       "      <td>15-24</td>\n",
       "      <td>10</td>\n",
       "      <td>4973</td>\n",
       "      <td>Spacebar</td>\n",
       "      <td>Round 4</td>\n",
       "      <td>0.231000</td>\n",
       "    </tr>\n",
       "    <tr>\n",
       "      <th>185</th>\n",
       "      <td>Male</td>\n",
       "      <td>Male</td>\n",
       "      <td>Black or African American</td>\n",
       "      <td>15-24</td>\n",
       "      <td>10</td>\n",
       "      <td>4973</td>\n",
       "      <td>Touchscreen</td>\n",
       "      <td>Round 4</td>\n",
       "      <td>0.266000</td>\n",
       "    </tr>\n",
       "    <tr>\n",
       "      <th>244</th>\n",
       "      <td>Male</td>\n",
       "      <td>Male</td>\n",
       "      <td>Black or African American</td>\n",
       "      <td>15-24</td>\n",
       "      <td>10</td>\n",
       "      <td>4973</td>\n",
       "      <td>Mouse</td>\n",
       "      <td>Round 5</td>\n",
       "      <td>0.267000</td>\n",
       "    </tr>\n",
       "    <tr>\n",
       "      <th>245</th>\n",
       "      <td>Male</td>\n",
       "      <td>Male</td>\n",
       "      <td>Black or African American</td>\n",
       "      <td>15-24</td>\n",
       "      <td>10</td>\n",
       "      <td>4973</td>\n",
       "      <td>Spacebar</td>\n",
       "      <td>Round 5</td>\n",
       "      <td>0.300000</td>\n",
       "    </tr>\n",
       "    <tr>\n",
       "      <th>246</th>\n",
       "      <td>Male</td>\n",
       "      <td>Male</td>\n",
       "      <td>Black or African American</td>\n",
       "      <td>15-24</td>\n",
       "      <td>10</td>\n",
       "      <td>4973</td>\n",
       "      <td>Touchscreen</td>\n",
       "      <td>Round 5</td>\n",
       "      <td>0.298999</td>\n",
       "    </tr>\n",
       "  </tbody>\n",
       "</table>\n",
       "</div>"
      ],
      "text/plain": [
       "      sex gender                  ethnicity    age  tech_level  user_id  \\\n",
       "0    Male   Male  Black or African American  15-24          10     4973   \n",
       "1    Male   Male  Black or African American  15-24          10     4973   \n",
       "2    Male   Male  Black or African American  15-24          10     4973   \n",
       "61   Male   Male  Black or African American  15-24          10     4973   \n",
       "62   Male   Male  Black or African American  15-24          10     4973   \n",
       "63   Male   Male  Black or African American  15-24          10     4973   \n",
       "122  Male   Male  Black or African American  15-24          10     4973   \n",
       "123  Male   Male  Black or African American  15-24          10     4973   \n",
       "124  Male   Male  Black or African American  15-24          10     4973   \n",
       "183  Male   Male  Black or African American  15-24          10     4973   \n",
       "184  Male   Male  Black or African American  15-24          10     4973   \n",
       "185  Male   Male  Black or African American  15-24          10     4973   \n",
       "244  Male   Male  Black or African American  15-24          10     4973   \n",
       "245  Male   Male  Black or African American  15-24          10     4973   \n",
       "246  Male   Male  Black or African American  15-24          10     4973   \n",
       "\n",
       "          method    round      time  \n",
       "0          Mouse  Round 1  0.325000  \n",
       "1       Spacebar  Round 1  0.331990  \n",
       "2    Touchscreen  Round 1  0.298999  \n",
       "61         Mouse  Round 2  0.267000  \n",
       "62      Spacebar  Round 2  0.232999  \n",
       "63   Touchscreen  Round 2  0.265990  \n",
       "122        Mouse  Round 3  0.301000  \n",
       "123     Spacebar  Round 3  0.267000  \n",
       "124  Touchscreen  Round 3  0.290000  \n",
       "183        Mouse  Round 4  0.229000  \n",
       "184     Spacebar  Round 4  0.231000  \n",
       "185  Touchscreen  Round 4  0.266000  \n",
       "244        Mouse  Round 5  0.267000  \n",
       "245     Spacebar  Round 5  0.300000  \n",
       "246  Touchscreen  Round 5  0.298999  "
      ]
     },
     "execution_count": 24,
     "metadata": {},
     "output_type": "execute_result"
    }
   ],
   "source": [
    "df_melt.columns = ['sex', 'gender', 'ethnicity', 'age', 'tech_level', 'user_id', 'method', 'round', 'time']\n",
    "df_melt[df_melt['user_id'] == 4973] "
   ]
  },
  {
   "cell_type": "code",
   "execution_count": 25,
   "metadata": {
    "scrolled": true
   },
   "outputs": [
    {
     "data": {
      "text/plain": [
       "(305, 9)"
      ]
     },
     "execution_count": 25,
     "metadata": {},
     "output_type": "execute_result"
    }
   ],
   "source": [
    "df_melt.shape"
   ]
  },
  {
   "cell_type": "markdown",
   "metadata": {},
   "source": [
    "Export to excel for later use."
   ]
  },
  {
   "cell_type": "code",
   "execution_count": 26,
   "metadata": {},
   "outputs": [],
   "source": [
    "df_melt.to_excel('reaction_time_cleaned.xlsx', sheet_name='data', index = False)\n"
   ]
  },
  {
   "cell_type": "code",
   "execution_count": null,
   "metadata": {},
   "outputs": [],
   "source": []
  }
 ],
 "metadata": {
  "kernelspec": {
   "display_name": "Python 3",
   "language": "python",
   "name": "python3"
  },
  "language_info": {
   "codemirror_mode": {
    "name": "ipython",
    "version": 3
   },
   "file_extension": ".py",
   "mimetype": "text/x-python",
   "name": "python",
   "nbconvert_exporter": "python",
   "pygments_lexer": "ipython3",
   "version": "3.8.5"
  }
 },
 "nbformat": 4,
 "nbformat_minor": 5
}
