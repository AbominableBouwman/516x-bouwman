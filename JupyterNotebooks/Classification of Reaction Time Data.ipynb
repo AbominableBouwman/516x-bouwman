{
 "cells": [
  {
   "cell_type": "markdown",
   "metadata": {},
   "source": [
    "# Classification of input methods via SVM\n",
    "Can we use SVM to identify and predict which input method was used on any given round of the test based on the other data present in the dataset. \n",
    "\n",
    "the SVM documentation can be found [here](https://scikit-learn.org/stable/modules/svm.html)"
   ]
  },
  {
   "cell_type": "code",
   "execution_count": 1,
   "metadata": {},
   "outputs": [],
   "source": [
    "#Import most of the packages we will need\n",
    "import numpy as np\n",
    "import pandas as pd\n",
    "import matplotlib.pyplot as plt\n",
    "%matplotlib inline\n",
    "import seaborn as sns\n",
    "from sklearn import metrics\n",
    "from sklearn.metrics import classification_report, accuracy_score, confusion_matrix\n",
    "from sklearn.model_selection import  train_test_split "
   ]
  },
  {
   "cell_type": "code",
   "execution_count": 2,
   "metadata": {},
   "outputs": [
    {
     "data": {
      "text/plain": [
       "(299, 9)"
      ]
     },
     "execution_count": 2,
     "metadata": {},
     "output_type": "execute_result"
    }
   ],
   "source": [
    "#Load in the data and remove the outliers we found in the previous step of data exploration\n",
    "df = pd.read_excel('reaction_time_cleaned.xlsx')\n",
    "df = df[np.abs(df.time - df.time.mean()) <= (3*df.time.std())]\n",
    "df.shape"
   ]
  },
  {
   "cell_type": "code",
   "execution_count": 3,
   "metadata": {},
   "outputs": [],
   "source": [
    "# Make an array X of holding the training samples,\n",
    "#and an array y of class labels of shape (n_samples):\n",
    "x = df.drop(columns = ['method', 'user_id'])\n",
    "y = df['method']"
   ]
  },
  {
   "cell_type": "code",
   "execution_count": 4,
   "metadata": {},
   "outputs": [],
   "source": [
    "# Split the data into a training and test set\n",
    "from sklearn.model_selection import train_test_split\n",
    "\n",
    "X_train, X_test, y_train, y_test = train_test_split(x, y, test_size = 0.3, random_state = 0)"
   ]
  },
  {
   "cell_type": "code",
   "execution_count": 5,
   "metadata": {},
   "outputs": [
    {
     "data": {
      "text/plain": [
       "((209, 7), (90, 7))"
      ]
     },
     "execution_count": 5,
     "metadata": {},
     "output_type": "execute_result"
    }
   ],
   "source": [
    "X_train.shape, X_test.shape"
   ]
  },
  {
   "cell_type": "code",
   "execution_count": 6,
   "metadata": {},
   "outputs": [
    {
     "data": {
      "text/plain": [
       "((209,), (90,))"
      ]
     },
     "execution_count": 6,
     "metadata": {},
     "output_type": "execute_result"
    }
   ],
   "source": [
    "y_train.shape, y_test.shape"
   ]
  },
  {
   "cell_type": "code",
   "execution_count": 7,
   "metadata": {},
   "outputs": [],
   "source": [
    "import category_encoders as ce\n",
    "# import category encoders "
   ]
  },
  {
   "cell_type": "code",
   "execution_count": 8,
   "metadata": {},
   "outputs": [
    {
     "name": "stderr",
     "output_type": "stream",
     "text": [
      "C:\\ProgramData\\Anaconda3\\lib\\site-packages\\category_encoders\\utils.py:21: FutureWarning: is_categorical is deprecated and will be removed in a future version.  Use is_categorical_dtype instead\n",
      "  elif pd.api.types.is_categorical(cols):\n"
     ]
    },
    {
     "data": {
      "text/plain": [
       "(209, 20)"
      ]
     },
     "execution_count": 8,
     "metadata": {},
     "output_type": "execute_result"
    }
   ],
   "source": [
    "# encode remaining variables with one-hot encoding \n",
    " \n",
    "encoder = ce.OneHotEncoder() \n",
    " \n",
    "X_train = encoder.fit_transform(X_train) \n",
    "X_test = encoder.transform(X_test) \n",
    "X_train.shape"
   ]
  },
  {
   "cell_type": "code",
   "execution_count": 9,
   "metadata": {
    "scrolled": true
   },
   "outputs": [
    {
     "data": {
      "text/html": [
       "<div>\n",
       "<style scoped>\n",
       "    .dataframe tbody tr th:only-of-type {\n",
       "        vertical-align: middle;\n",
       "    }\n",
       "\n",
       "    .dataframe tbody tr th {\n",
       "        vertical-align: top;\n",
       "    }\n",
       "\n",
       "    .dataframe thead th {\n",
       "        text-align: right;\n",
       "    }\n",
       "</style>\n",
       "<table border=\"1\" class=\"dataframe\">\n",
       "  <thead>\n",
       "    <tr style=\"text-align: right;\">\n",
       "      <th></th>\n",
       "      <th>sex_1</th>\n",
       "      <th>sex_2</th>\n",
       "      <th>gender_1</th>\n",
       "      <th>gender_2</th>\n",
       "      <th>ethnicity_1</th>\n",
       "      <th>ethnicity_2</th>\n",
       "      <th>ethnicity_3</th>\n",
       "      <th>ethnicity_4</th>\n",
       "      <th>age_1</th>\n",
       "      <th>age_2</th>\n",
       "      <th>age_3</th>\n",
       "      <th>age_4</th>\n",
       "      <th>age_5</th>\n",
       "      <th>tech_level</th>\n",
       "      <th>round_1</th>\n",
       "      <th>round_2</th>\n",
       "      <th>round_3</th>\n",
       "      <th>round_4</th>\n",
       "      <th>round_5</th>\n",
       "      <th>time</th>\n",
       "    </tr>\n",
       "  </thead>\n",
       "  <tbody>\n",
       "    <tr>\n",
       "      <th>287</th>\n",
       "      <td>1</td>\n",
       "      <td>0</td>\n",
       "      <td>1</td>\n",
       "      <td>0</td>\n",
       "      <td>1</td>\n",
       "      <td>0</td>\n",
       "      <td>0</td>\n",
       "      <td>0</td>\n",
       "      <td>1</td>\n",
       "      <td>0</td>\n",
       "      <td>0</td>\n",
       "      <td>0</td>\n",
       "      <td>0</td>\n",
       "      <td>5</td>\n",
       "      <td>1</td>\n",
       "      <td>0</td>\n",
       "      <td>0</td>\n",
       "      <td>0</td>\n",
       "      <td>0</td>\n",
       "      <td>0.257000</td>\n",
       "    </tr>\n",
       "    <tr>\n",
       "      <th>46</th>\n",
       "      <td>0</td>\n",
       "      <td>1</td>\n",
       "      <td>0</td>\n",
       "      <td>1</td>\n",
       "      <td>0</td>\n",
       "      <td>1</td>\n",
       "      <td>0</td>\n",
       "      <td>0</td>\n",
       "      <td>1</td>\n",
       "      <td>0</td>\n",
       "      <td>0</td>\n",
       "      <td>0</td>\n",
       "      <td>0</td>\n",
       "      <td>10</td>\n",
       "      <td>0</td>\n",
       "      <td>1</td>\n",
       "      <td>0</td>\n",
       "      <td>0</td>\n",
       "      <td>0</td>\n",
       "      <td>0.295999</td>\n",
       "    </tr>\n",
       "    <tr>\n",
       "      <th>246</th>\n",
       "      <td>0</td>\n",
       "      <td>1</td>\n",
       "      <td>0</td>\n",
       "      <td>1</td>\n",
       "      <td>0</td>\n",
       "      <td>0</td>\n",
       "      <td>1</td>\n",
       "      <td>0</td>\n",
       "      <td>0</td>\n",
       "      <td>1</td>\n",
       "      <td>0</td>\n",
       "      <td>0</td>\n",
       "      <td>0</td>\n",
       "      <td>10</td>\n",
       "      <td>1</td>\n",
       "      <td>0</td>\n",
       "      <td>0</td>\n",
       "      <td>0</td>\n",
       "      <td>0</td>\n",
       "      <td>0.298999</td>\n",
       "    </tr>\n",
       "    <tr>\n",
       "      <th>194</th>\n",
       "      <td>1</td>\n",
       "      <td>0</td>\n",
       "      <td>1</td>\n",
       "      <td>0</td>\n",
       "      <td>0</td>\n",
       "      <td>0</td>\n",
       "      <td>0</td>\n",
       "      <td>1</td>\n",
       "      <td>0</td>\n",
       "      <td>0</td>\n",
       "      <td>1</td>\n",
       "      <td>0</td>\n",
       "      <td>0</td>\n",
       "      <td>10</td>\n",
       "      <td>0</td>\n",
       "      <td>0</td>\n",
       "      <td>1</td>\n",
       "      <td>0</td>\n",
       "      <td>0</td>\n",
       "      <td>0.328999</td>\n",
       "    </tr>\n",
       "    <tr>\n",
       "      <th>157</th>\n",
       "      <td>0</td>\n",
       "      <td>1</td>\n",
       "      <td>0</td>\n",
       "      <td>1</td>\n",
       "      <td>1</td>\n",
       "      <td>0</td>\n",
       "      <td>0</td>\n",
       "      <td>0</td>\n",
       "      <td>0</td>\n",
       "      <td>1</td>\n",
       "      <td>0</td>\n",
       "      <td>0</td>\n",
       "      <td>0</td>\n",
       "      <td>8</td>\n",
       "      <td>0</td>\n",
       "      <td>0</td>\n",
       "      <td>0</td>\n",
       "      <td>1</td>\n",
       "      <td>0</td>\n",
       "      <td>0.324900</td>\n",
       "    </tr>\n",
       "  </tbody>\n",
       "</table>\n",
       "</div>"
      ],
      "text/plain": [
       "     sex_1  sex_2  gender_1  gender_2  ethnicity_1  ethnicity_2  ethnicity_3  \\\n",
       "287      1      0         1         0            1            0            0   \n",
       "46       0      1         0         1            0            1            0   \n",
       "246      0      1         0         1            0            0            1   \n",
       "194      1      0         1         0            0            0            0   \n",
       "157      0      1         0         1            1            0            0   \n",
       "\n",
       "     ethnicity_4  age_1  age_2  age_3  age_4  age_5  tech_level  round_1  \\\n",
       "287            0      1      0      0      0      0           5        1   \n",
       "46             0      1      0      0      0      0          10        0   \n",
       "246            0      0      1      0      0      0          10        1   \n",
       "194            1      0      0      1      0      0          10        0   \n",
       "157            0      0      1      0      0      0           8        0   \n",
       "\n",
       "     round_2  round_3  round_4  round_5      time  \n",
       "287        0        0        0        0  0.257000  \n",
       "46         1        0        0        0  0.295999  \n",
       "246        0        0        0        0  0.298999  \n",
       "194        0        1        0        0  0.328999  \n",
       "157        0        0        1        0  0.324900  "
      ]
     },
     "execution_count": 9,
     "metadata": {},
     "output_type": "execute_result"
    }
   ],
   "source": [
    "X_train.head()"
   ]
  },
  {
   "cell_type": "code",
   "execution_count": 10,
   "metadata": {
    "scrolled": true
   },
   "outputs": [
    {
     "name": "stdout",
     "output_type": "stream",
     "text": [
      "Index(['sex_1', 'sex_2', 'gender_1', 'gender_2', 'ethnicity_1', 'ethnicity_2',\n",
      "       'ethnicity_3', 'ethnicity_4', 'age_1', 'age_2', 'age_3', 'age_4',\n",
      "       'age_5', 'tech_level', 'round_1', 'round_2', 'round_3', 'round_4',\n",
      "       'round_5', 'time'],\n",
      "      dtype='object')\n"
     ]
    }
   ],
   "source": [
    "#Save the column names we will need them after applying the scaler\n",
    "cols = X_train.columns\n",
    "print(cols)"
   ]
  },
  {
   "cell_type": "code",
   "execution_count": 11,
   "metadata": {},
   "outputs": [],
   "source": [
    "# This is for later testing\n",
    "#pd.DataFrame(scaler.fit_transform(X_train.tech_level.values.reshape(-1,1)), columns=['tech_level'])"
   ]
  },
  {
   "cell_type": "code",
   "execution_count": 12,
   "metadata": {
    "scrolled": true
   },
   "outputs": [],
   "source": [
    "from sklearn.preprocessing import StandardScaler\n",
    "\n",
    "scaler = StandardScaler()\n",
    "\n",
    "X_train = scaler.fit_transform(X_train)\n",
    "\n",
    "X_test = scaler.transform(X_test)\n",
    "#X_test['tech_level'] = pd.DataFrame(scaler.transform(X_test.tech_level.values.reshape(-1,1)), columns=['tech_level'])\n",
    "#X_test['time'] = pd.DataFrame(scaler.transform(X_test.time.values.reshape(-1,1)), columns=['time'])\n"
   ]
  },
  {
   "cell_type": "code",
   "execution_count": 13,
   "metadata": {},
   "outputs": [],
   "source": [
    "X_train = pd.DataFrame(X_train, columns=[cols])\n",
    "X_test = pd.DataFrame(X_test, columns=[cols])"
   ]
  },
  {
   "cell_type": "code",
   "execution_count": 14,
   "metadata": {},
   "outputs": [
    {
     "data": {
      "text/plain": [
       "SVC(kernel='linear', random_state=0)"
      ]
     },
     "execution_count": 14,
     "metadata": {},
     "output_type": "execute_result"
    }
   ],
   "source": [
    "#Using SVC method of svm class to use Support Vector Machine Algorithm\n",
    "from sklearn.svm import SVC\n",
    "classifier = SVC(kernel = 'linear', random_state = 0)\n",
    "classifier.fit(X_train, y_train)"
   ]
  },
  {
   "cell_type": "code",
   "execution_count": 15,
   "metadata": {},
   "outputs": [
    {
     "data": {
      "text/plain": [
       "array(['Touchscreen', 'Spacebar', 'Spacebar', 'Touchscreen',\n",
       "       'Touchscreen', 'Touchscreen', 'Spacebar', 'Touchscreen',\n",
       "       'Spacebar', 'Touchscreen', 'Mouse', 'Touchscreen', 'Spacebar',\n",
       "       'Spacebar', 'Spacebar', 'Spacebar', 'Mouse', 'Touchscreen',\n",
       "       'Touchscreen', 'Mouse', 'Spacebar', 'Spacebar', 'Mouse',\n",
       "       'Spacebar', 'Touchscreen', 'Touchscreen', 'Touchscreen',\n",
       "       'Spacebar', 'Spacebar', 'Spacebar', 'Touchscreen', 'Spacebar',\n",
       "       'Spacebar', 'Touchscreen', 'Touchscreen', 'Touchscreen',\n",
       "       'Touchscreen', 'Mouse', 'Mouse', 'Spacebar', 'Spacebar',\n",
       "       'Spacebar', 'Touchscreen', 'Mouse', 'Spacebar', 'Touchscreen',\n",
       "       'Touchscreen', 'Spacebar', 'Spacebar', 'Spacebar', 'Touchscreen',\n",
       "       'Spacebar', 'Touchscreen', 'Touchscreen', 'Touchscreen',\n",
       "       'Touchscreen', 'Touchscreen', 'Spacebar', 'Spacebar',\n",
       "       'Touchscreen', 'Spacebar', 'Touchscreen', 'Mouse', 'Mouse',\n",
       "       'Spacebar', 'Touchscreen', 'Mouse', 'Touchscreen', 'Spacebar',\n",
       "       'Touchscreen', 'Touchscreen', 'Touchscreen', 'Mouse', 'Mouse',\n",
       "       'Touchscreen', 'Mouse', 'Spacebar', 'Touchscreen', 'Spacebar',\n",
       "       'Touchscreen', 'Spacebar', 'Spacebar', 'Touchscreen',\n",
       "       'Touchscreen', 'Touchscreen', 'Touchscreen', 'Touchscreen',\n",
       "       'Touchscreen', 'Spacebar', 'Touchscreen'], dtype=object)"
      ]
     },
     "execution_count": 15,
     "metadata": {},
     "output_type": "execute_result"
    }
   ],
   "source": [
    "y_pred = classifier.predict(X_test)\n",
    "y_pred"
   ]
  },
  {
   "cell_type": "code",
   "execution_count": 16,
   "metadata": {},
   "outputs": [
    {
     "name": "stdout",
     "output_type": "stream",
     "text": [
      "Accuracy score:  0.24444444444444444\n"
     ]
    }
   ],
   "source": [
    "print('Accuracy score: ', format(accuracy_score(y_test, y_pred)))"
   ]
  },
  {
   "cell_type": "code",
   "execution_count": 17,
   "metadata": {},
   "outputs": [],
   "source": [
    "# Creating  a confusion matrix,which compares the y_test and y_pred\n",
    "cm = confusion_matrix(y_test, y_pred)"
   ]
  },
  {
   "cell_type": "code",
   "execution_count": 18,
   "metadata": {},
   "outputs": [],
   "source": [
    "# Creating a dataframe for a array-formatted Confusion matrix,so it will be easy for plotting.\n",
    "cm_df = pd.DataFrame(cm,\n",
    "                     index = ['Mouse','Spacebar','Touchscreen'], \n",
    "                     columns = ['Mouse','Spacebar','Touchscreen'])"
   ]
  },
  {
   "cell_type": "code",
   "execution_count": 19,
   "metadata": {},
   "outputs": [
    {
     "data": {
      "image/png": "[encoded data removed]",
      "text/plain": [
       "<Figure size 360x288 with 2 Axes>"
      ]
     },
     "metadata": {
      "needs_background": "light"
     },
     "output_type": "display_data"
    }
   ],
   "source": [
    "#Plotting the confusion matrix\n",
    "plt.figure(figsize=(5,4))\n",
    "sns.heatmap(cm_df, annot=True)\n",
    "plt.title('Confusion Matrix')\n",
    "plt.ylabel('Actal Values')\n",
    "plt.xlabel('Predicted Values')\n",
    "plt.show()"
   ]
  },
  {
   "cell_type": "code",
   "execution_count": 20,
   "metadata": {},
   "outputs": [
    {
     "name": "stdout",
     "output_type": "stream",
     "text": [
      "\n",
      " Mouse True Positives(TP) =  2\n",
      "\n",
      " Mouse False Negatives(FN) =  31\n",
      "\n",
      " Mouse False Positives(FP) =  11\n",
      "\n",
      " Mouse True Negatives(TN) =  46\n"
     ]
    }
   ],
   "source": [
    "print('\\n Mouse True Positives(TP) = ', cm[0,0])\n",
    "print('\\n Mouse False Negatives(FN) = ', cm[0,1] + cm[0,2])\n",
    "print('\\n Mouse False Positives(FP) = ', cm[1,0] + cm[2,0])\n",
    "print('\\n Mouse True Negatives(TN) = ', cm[1,1] + cm[1,2] + cm[2,1] + cm[2,2] )"
   ]
  },
  {
   "cell_type": "code",
   "execution_count": 21,
   "metadata": {},
   "outputs": [
    {
     "name": "stdout",
     "output_type": "stream",
     "text": [
      "\n",
      " Spacebar True Positives(TP) =  13\n",
      "\n",
      " Spacebar False Negatives(FN) =  22\n",
      "\n",
      " Spacebar False Positives(FP) =  21\n",
      "\n",
      " Spacebar True Negatives(TN) =  34\n"
     ]
    }
   ],
   "source": [
    "print('\\n Spacebar True Positives(TP) = ', cm[1,1])\n",
    "print('\\n Spacebar False Negatives(FN) = ', cm[1,0] + cm[1,2])\n",
    "print('\\n Spacebar False Positives(FP) = ', cm[0,1] + cm[2,1])\n",
    "print('\\n Spacebar True Negatives(TN) = ', cm[0,0] + cm[0,2] + cm[2,0] + cm[2,2] )"
   ]
  },
  {
   "cell_type": "code",
   "execution_count": 22,
   "metadata": {},
   "outputs": [
    {
     "name": "stdout",
     "output_type": "stream",
     "text": [
      "\n",
      " Touchscreen True Positives(TP) =  7\n",
      "\n",
      " Touchscreen False Negatives(FN) =  15\n",
      "\n",
      " Touchscreen False Positives(FP) =  36\n",
      "\n",
      " Touchscreen True Negatives(TN) =  32\n"
     ]
    }
   ],
   "source": [
    "print('\\n Touchscreen True Positives(TP) = ', cm[2,2])\n",
    "print('\\n Touchscreen False Negatives(FN) = ', cm[2,0] + cm[2,1])\n",
    "print('\\n Touchscreen False Positives(FP) = ', cm[0,2] + cm[1,2])\n",
    "print('\\n Touchscreen True Negatives(TN) = ', cm[0,0] + cm[0,1] + cm[1,1] + cm[1,0] )"
   ]
  },
  {
   "cell_type": "code",
   "execution_count": 23,
   "metadata": {
    "scrolled": true
   },
   "outputs": [
    {
     "name": "stdout",
     "output_type": "stream",
     "text": [
      "The classification report is as follows...\n",
      "\n",
      "              precision    recall  f1-score   support\n",
      "\n",
      "       Mouse       0.15      0.06      0.09        33\n",
      "    Spacebar       0.38      0.37      0.38        35\n",
      " Touchscreen       0.16      0.32      0.22        22\n",
      "\n",
      "    accuracy                           0.24        90\n",
      "   macro avg       0.23      0.25      0.23        90\n",
      "weighted avg       0.24      0.24      0.23        90\n",
      "\n"
     ]
    }
   ],
   "source": [
    "print(\"The classification report is as follows...\\n\")\n",
    "print(classification_report(y_test, y_pred))"
   ]
  },
  {
   "cell_type": "markdown",
   "metadata": {},
   "source": [
    "#### Precision\n",
    "\n",
    "“When it predicts the positive result, how often is it correct?”\n",
    "This is obtained by using the following formulae:\n",
    "\n",
    "Precision = TP / (TP + FP)\n",
    "\n",
    "Precision is usually used when the goal is to limit the number of false positives (FP). For example, this would be the metric to focus on if our goal with the spam filtering algorithm is to minimize the number of reals emails that are classified as spam.\n",
    "\n",
    "#### Recall\n",
    "\n",
    "“When it is actually the positive result, how often does it predict correctly?”\n",
    "This is obtained by using the following formulae:\n",
    "\n",
    "Recall = TP / (TP + FN)\n",
    "\n",
    "Recall is usually used when the goal is to limit the number of false negatives (FN). In our example, that would correspond to minimizing the number of spam emails that are classified as real emails. Recall is also known as “sensitivity” and “true positive rate” (TPR).\n",
    "\n",
    "#### f1-score\n",
    "\n",
    "This is the harmonic mean of precision and recall:\n",
    "\n",
    "f1-score = 2 * precision*recall / (precision + recall)\n",
    "\n",
    "It is useful when you need to take both precision and recall into account. If you try to only optimize recall, your algorithm will predict most examples to belong to the positive class, but that will result in many false positives and, hence, low precision. On the other hand, if you try to optimize precision, your model will predict very few examples as positive results (the ones which highest probability), but recall will be very low."
   ]
  },
  {
   "cell_type": "code",
   "execution_count": null,
   "metadata": {},
   "outputs": [],
   "source": []
  }
 ],
 "metadata": {
  "kernelspec": {
   "display_name": "Python 3",
   "language": "python",
   "name": "python3"
  },
  "language_info": {
   "codemirror_mode": {
    "name": "ipython",
    "version": 3
   },
   "file_extension": ".py",
   "mimetype": "text/x-python",
   "name": "python",
   "nbconvert_exporter": "python",
   "pygments_lexer": "ipython3",
   "version": "3.8.5"
  }
 },
 "nbformat": 4,
 "nbformat_minor": 4
}
